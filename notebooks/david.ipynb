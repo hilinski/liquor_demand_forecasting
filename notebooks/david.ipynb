{
 "cells": [
  {
   "cell_type": "code",
   "execution_count": 1,
   "metadata": {},
   "outputs": [],
   "source": [
    "from google.cloud import bigquery\n",
    "from google.cloud import bigquery_storage\n",
    "import db_dtypes\n",
    "import pandas as pd\n",
    "import numpy as np\n",
    "import seaborn as sns\n",
    "import matplotlib.pyplot as plt\n",
    "from sklearn.metrics import mean_squared_error\n",
    "from sklearn.preprocessing import  RobustScaler, OneHotEncoder\n",
    "from sklearn.pipeline import Pipeline, make_pipeline, make_union\n",
    "from sklearn.compose import ColumnTransformer\n",
    "from tensorflow import keras\n",
    "from keras import Model, Sequential, layers, regularizers, optimizers\n",
    "from keras.callbacks import EarlyStopping\n",
    "from tensorflow.keras.models import Sequential\n",
    "from tensorflow.keras import layers\n",
    "from tensorflow.keras.layers import Dense, SimpleRNN, Input, Normalization\n",
    "import warnings\n",
    "warnings.simplefilter(action='ignore')\n",
    "from pathlib import Path\n"
   ]
  },
  {
   "cell_type": "code",
   "execution_count": 1,
   "metadata": {},
   "outputs": [
    {
     "name": "stdout",
     "output_type": "stream",
     "text": [
      "/Users/davids./code/davidSA10/gcp/nth-fiber-448914-a7-c1adcd74a08c.json\n"
     ]
    }
   ],
   "source": [
    "from google.cloud import storage\n",
    "\n",
    "# Verifica que GOOGLE_APPLICATION_CREDENTIALS esté configurado\n",
    "import os\n",
    "print(os.environ.get('GOOGLE_APPLICATION_CREDENTIALS'))\n",
    "\n",
    "# Tu código aquí\n",
    "client = storage.Client()"
   ]
  },
  {
   "cell_type": "code",
   "execution_count": 2,
   "metadata": {},
   "outputs": [
    {
     "data": {
      "text/html": [
       "<div>\n",
       "<style scoped>\n",
       "    .dataframe tbody tr th:only-of-type {\n",
       "        vertical-align: middle;\n",
       "    }\n",
       "\n",
       "    .dataframe tbody tr th {\n",
       "        vertical-align: top;\n",
       "    }\n",
       "\n",
       "    .dataframe thead th {\n",
       "        text-align: right;\n",
       "    }\n",
       "</style>\n",
       "<table border=\"1\" class=\"dataframe\">\n",
       "  <thead>\n",
       "    <tr style=\"text-align: right;\">\n",
       "      <th></th>\n",
       "      <th>date_week</th>\n",
       "      <th>category_name</th>\n",
       "      <th>county</th>\n",
       "      <th>week_year</th>\n",
       "      <th>week_of_year</th>\n",
       "      <th>bottles_sold</th>\n",
       "    </tr>\n",
       "  </thead>\n",
       "  <tbody>\n",
       "    <tr>\n",
       "      <th>0</th>\n",
       "      <td>2012-12-30</td>\n",
       "      <td>GIN</td>\n",
       "      <td>BLACK HAWK</td>\n",
       "      <td>2012</td>\n",
       "      <td>52</td>\n",
       "      <td>12</td>\n",
       "    </tr>\n",
       "    <tr>\n",
       "      <th>1</th>\n",
       "      <td>2013-01-06</td>\n",
       "      <td>GIN</td>\n",
       "      <td>BLACK HAWK</td>\n",
       "      <td>2013</td>\n",
       "      <td>0</td>\n",
       "      <td>11</td>\n",
       "    </tr>\n",
       "    <tr>\n",
       "      <th>2</th>\n",
       "      <td>2013-01-13</td>\n",
       "      <td>GIN</td>\n",
       "      <td>BLACK HAWK</td>\n",
       "      <td>2013</td>\n",
       "      <td>1</td>\n",
       "      <td>34</td>\n",
       "    </tr>\n",
       "    <tr>\n",
       "      <th>3</th>\n",
       "      <td>2013-01-20</td>\n",
       "      <td>GIN</td>\n",
       "      <td>BLACK HAWK</td>\n",
       "      <td>2013</td>\n",
       "      <td>2</td>\n",
       "      <td>18</td>\n",
       "    </tr>\n",
       "    <tr>\n",
       "      <th>4</th>\n",
       "      <td>2013-01-27</td>\n",
       "      <td>GIN</td>\n",
       "      <td>BLACK HAWK</td>\n",
       "      <td>2013</td>\n",
       "      <td>3</td>\n",
       "      <td>25</td>\n",
       "    </tr>\n",
       "  </tbody>\n",
       "</table>\n",
       "</div>"
      ],
      "text/plain": [
       "    date_week category_name      county  week_year  week_of_year  bottles_sold\n",
       "0  2012-12-30           GIN  BLACK HAWK       2012            52            12\n",
       "1  2013-01-06           GIN  BLACK HAWK       2013             0            11\n",
       "2  2013-01-13           GIN  BLACK HAWK       2013             1            34\n",
       "3  2013-01-20           GIN  BLACK HAWK       2013             2            18\n",
       "4  2013-01-27           GIN  BLACK HAWK       2013             3            25"
      ]
     },
     "execution_count": 2,
     "metadata": {},
     "output_type": "execute_result"
    }
   ],
   "source": [
    "client = bigquery.Client()\n",
    "\n",
    "# Create BigQuery Storage client\n",
    "bqstorage_client = bigquery_storage.BigQueryReadClient()\n",
    "\n",
    "query = f\"\"\"\n",
    "        with clean_data as (\n",
    "                select * EXCEPT (store_number, zip_code, category, vendor_number, county_number),\n",
    "                CAST(store_number AS NUMERIC) as store_number ,\n",
    "                CAST(zip_code AS NUMERIC) as zip_code ,\n",
    "                CAST(category AS NUMERIC) as category,\n",
    "                CAST(vendor_number AS NUMERIC) as vendor_number\n",
    "                from `bigquery-public-data.iowa_liquor_sales.sales`\n",
    "                where date >= '2013-01-01' and date <= '2023-06-30'\n",
    "                --and CAST(vendor_number AS NUMERIC) in (260,421,65,370,85,434,35,301,259,115,395,55,420,205,380,192,297,300,255,389)\n",
    "                ORDER BY date ASC\n",
    "        ),\n",
    "        distinct_vendor as (\n",
    "                select\n",
    "                CAST(vendor_number AS NUMERIC) as vendor_number,\n",
    "                ARRAY_TO_STRING(ARRAY_AGG(vendor_name ORDER BY date DESC LIMIT 1),\"\") as vendor_name\n",
    "                from `bigquery-public-data.iowa_liquor_sales.sales`\n",
    "                group by 1\n",
    "        ),\n",
    "        distinct_category as (\n",
    "                select\n",
    "                CAST(category AS NUMERIC) as category,\n",
    "                ARRAY_TO_STRING(ARRAY_AGG(category_name ORDER BY date DESC LIMIT 1),\"\") as category_name\n",
    "                from `bigquery-public-data.iowa_liquor_sales.sales`\n",
    "                group by 1\n",
    "        ),\n",
    "        distinct_store as (\n",
    "                select\n",
    "                CAST(store_number AS NUMERIC) as store_number,\n",
    "                ARRAY_TO_STRING(ARRAY_AGG(store_name ORDER BY date DESC LIMIT 1),\"\") as store_name\n",
    "                from `bigquery-public-data.iowa_liquor_sales.sales`\n",
    "                group by 1\n",
    "        ), clean_data2 as (\n",
    "        select\n",
    "                cd.* EXCEPT (vendor_name, category_name, store_name),\n",
    "                dv.vendor_name,\n",
    "                dc.category_name,\n",
    "                ds.store_name\n",
    "        from clean_data cd\n",
    "        left join distinct_vendor dv on cd.vendor_number = dv.vendor_number\n",
    "        left join distinct_category dc on cd.category = dc.category\n",
    "        left join distinct_store ds on cd.store_number = ds.store_number\n",
    "        ), group_and_others as (\n",
    "        SELECT date,\n",
    "        case when county in ('POLK','LINN','SCOTT','BLACK HAWK','JOHNSON') then county else 'OTHER' END AS county, #'POTTAWATTAMIE','DUBUQUE','STORY','WOODBURY','DALLAS'\n",
    "        CASE\n",
    "        WHEN category_name like '%RUM%' THEN 'RUM'\n",
    "        WHEN category_name like '%VODKA%' THEN 'VODKA'\n",
    "        WHEN category_name like '%WHISK%' or  category_name like '%SCOTCH%' THEN 'WHISKY'\n",
    "        WHEN category_name like '%TEQUILA%' or category_name like '%MEZCAL%' THEN 'TEQUILA_MEZCAL'\n",
    "        WHEN category_name like '%LIQUEUR%' THEN 'LIQUEURS'\n",
    "        WHEN category_name like '%GIN%' THEN 'GIN'\n",
    "        else 'OTROS'\n",
    "        end as category_name,\n",
    "        case when vendor_name in ('SAZERAC COMPANY  INC','DIAGEO AMERICAS','HEAVEN HILL BRANDS','LUXCO INC','JIM BEAM BRANDS','FIFTH GENERATION INC','PERNOD RICARD USA','MCCORMICK DISTILLING CO.','BACARDI USA INC','E & J GALLO WINERY') then vendor_name else 'OTHER' END as vendor_name,\n",
    "        sum(bottles_sold) as bottles_sold\n",
    "        FROM clean_data2\n",
    "        group by 1,2,3,4\n",
    "        ), summary as (\n",
    "        select\n",
    "        * EXCEPT (vendor_name)\n",
    "        from group_and_others\n",
    "        where lower(vendor_name) like '%bacardi%'\n",
    "        ), combinations as (\n",
    "        SELECT\n",
    "          *\n",
    "          FROM UNNEST(GENERATE_DATE_ARRAY('2013-01-01', '2023-06-30', INTERVAL 1 DAY)) as date\n",
    "          cross join (select distinct category_name from summary) a\n",
    "          cross join (select distinct county from summary) b\n",
    "          ), data_combinations as (\n",
    "        select c.*,\n",
    "        date_trunc(c.date, WEEK) as date_week,\n",
    "          coalesce(s.bottles_sold,0) as bottles_sold\n",
    "          from combinations c\n",
    "          left join summary s on c.date = s.date and c.category_name = s.category_name and c.county = s.county\n",
    "          )\n",
    "          select date_week, category_name, county,\n",
    "          extract(YEAR FROM date_week) as week_year,\n",
    "          extract(WEEK(MONDAY) from date_week) as week_of_year,\n",
    "           sum(bottles_sold) as bottles_sold\n",
    "           from data_combinations\n",
    "           group by 1,2,3,4,5\n",
    "           order by county asc, category_name asc, date_week asc\n",
    "\n",
    "    \"\"\"\n",
    "\n",
    "# Fetch results using BigQuery Storage API\n",
    "df = client.query(query).to_dataframe(bqstorage_client=bqstorage_client)\n",
    "\n",
    "# Display results\n",
    "df.head()"
   ]
  },
  {
   "cell_type": "markdown",
   "metadata": {},
   "source": [
    "##"
   ]
  },
  {
   "cell_type": "markdown",
   "metadata": {},
   "source": [
    "## Preprocess"
   ]
  },
  {
   "cell_type": "code",
   "execution_count": 5,
   "metadata": {},
   "outputs": [],
   "source": [
    "month_in_year = 12\n",
    "df['date_week'] = pd.to_datetime(df['date_week'])\n",
    "df['num_month'] = df['date_week'].dt.month\n",
    "df['sin_MoSold'] = np.sin(2*np.pi*df.num_month/month_in_year)\n",
    "df['cos_MoSold'] = np.cos(2*np.pi*df.num_month/month_in_year)\n",
    "df = df.drop('num_month', axis=1)\n",
    "columnas_target = df[[\"bottles_sold\"]]\n",
    "columnas_apoyo = df[['category_name','county']]"
   ]
  },
  {
   "cell_type": "code",
   "execution_count": 6,
   "metadata": {},
   "outputs": [
    {
     "data": {
      "text/html": [
       "<div>\n",
       "<style scoped>\n",
       "    .dataframe tbody tr th:only-of-type {\n",
       "        vertical-align: middle;\n",
       "    }\n",
       "\n",
       "    .dataframe tbody tr th {\n",
       "        vertical-align: top;\n",
       "    }\n",
       "\n",
       "    .dataframe thead th {\n",
       "        text-align: right;\n",
       "    }\n",
       "</style>\n",
       "<table border=\"1\" class=\"dataframe\">\n",
       "  <thead>\n",
       "    <tr style=\"text-align: right;\">\n",
       "      <th></th>\n",
       "      <th>date_week</th>\n",
       "      <th>category_name</th>\n",
       "      <th>county</th>\n",
       "      <th>week_year</th>\n",
       "      <th>week_of_year</th>\n",
       "      <th>bottles_sold</th>\n",
       "      <th>sin_MoSold</th>\n",
       "      <th>cos_MoSold</th>\n",
       "    </tr>\n",
       "  </thead>\n",
       "  <tbody>\n",
       "    <tr>\n",
       "      <th>0</th>\n",
       "      <td>2012-12-30</td>\n",
       "      <td>GIN</td>\n",
       "      <td>BLACK HAWK</td>\n",
       "      <td>2012</td>\n",
       "      <td>52</td>\n",
       "      <td>12</td>\n",
       "      <td>-2.449294e-16</td>\n",
       "      <td>1.000000</td>\n",
       "    </tr>\n",
       "    <tr>\n",
       "      <th>1</th>\n",
       "      <td>2013-01-06</td>\n",
       "      <td>GIN</td>\n",
       "      <td>BLACK HAWK</td>\n",
       "      <td>2013</td>\n",
       "      <td>0</td>\n",
       "      <td>11</td>\n",
       "      <td>5.000000e-01</td>\n",
       "      <td>0.866025</td>\n",
       "    </tr>\n",
       "    <tr>\n",
       "      <th>2</th>\n",
       "      <td>2013-01-13</td>\n",
       "      <td>GIN</td>\n",
       "      <td>BLACK HAWK</td>\n",
       "      <td>2013</td>\n",
       "      <td>1</td>\n",
       "      <td>34</td>\n",
       "      <td>5.000000e-01</td>\n",
       "      <td>0.866025</td>\n",
       "    </tr>\n",
       "    <tr>\n",
       "      <th>3</th>\n",
       "      <td>2013-01-20</td>\n",
       "      <td>GIN</td>\n",
       "      <td>BLACK HAWK</td>\n",
       "      <td>2013</td>\n",
       "      <td>2</td>\n",
       "      <td>18</td>\n",
       "      <td>5.000000e-01</td>\n",
       "      <td>0.866025</td>\n",
       "    </tr>\n",
       "    <tr>\n",
       "      <th>4</th>\n",
       "      <td>2013-01-27</td>\n",
       "      <td>GIN</td>\n",
       "      <td>BLACK HAWK</td>\n",
       "      <td>2013</td>\n",
       "      <td>3</td>\n",
       "      <td>25</td>\n",
       "      <td>5.000000e-01</td>\n",
       "      <td>0.866025</td>\n",
       "    </tr>\n",
       "  </tbody>\n",
       "</table>\n",
       "</div>"
      ],
      "text/plain": [
       "   date_week category_name      county  week_year  week_of_year  bottles_sold  \\\n",
       "0 2012-12-30           GIN  BLACK HAWK       2012            52            12   \n",
       "1 2013-01-06           GIN  BLACK HAWK       2013             0            11   \n",
       "2 2013-01-13           GIN  BLACK HAWK       2013             1            34   \n",
       "3 2013-01-20           GIN  BLACK HAWK       2013             2            18   \n",
       "4 2013-01-27           GIN  BLACK HAWK       2013             3            25   \n",
       "\n",
       "     sin_MoSold  cos_MoSold  \n",
       "0 -2.449294e-16    1.000000  \n",
       "1  5.000000e-01    0.866025  \n",
       "2  5.000000e-01    0.866025  \n",
       "3  5.000000e-01    0.866025  \n",
       "4  5.000000e-01    0.866025  "
      ]
     },
     "execution_count": 6,
     "metadata": {},
     "output_type": "execute_result"
    }
   ],
   "source": [
    "df.head()"
   ]
  },
  {
   "cell_type": "code",
   "execution_count": 7,
   "metadata": {},
   "outputs": [
    {
     "data": {
      "text/html": [
       "<div>\n",
       "<style scoped>\n",
       "    .dataframe tbody tr th:only-of-type {\n",
       "        vertical-align: middle;\n",
       "    }\n",
       "\n",
       "    .dataframe tbody tr th {\n",
       "        vertical-align: top;\n",
       "    }\n",
       "\n",
       "    .dataframe thead th {\n",
       "        text-align: right;\n",
       "    }\n",
       "</style>\n",
       "<table border=\"1\" class=\"dataframe\">\n",
       "  <thead>\n",
       "    <tr style=\"text-align: right;\">\n",
       "      <th></th>\n",
       "      <th>bottles_sold</th>\n",
       "    </tr>\n",
       "  </thead>\n",
       "  <tbody>\n",
       "    <tr>\n",
       "      <th>0</th>\n",
       "      <td>12</td>\n",
       "    </tr>\n",
       "    <tr>\n",
       "      <th>1</th>\n",
       "      <td>11</td>\n",
       "    </tr>\n",
       "    <tr>\n",
       "      <th>2</th>\n",
       "      <td>34</td>\n",
       "    </tr>\n",
       "    <tr>\n",
       "      <th>3</th>\n",
       "      <td>18</td>\n",
       "    </tr>\n",
       "    <tr>\n",
       "      <th>4</th>\n",
       "      <td>25</td>\n",
       "    </tr>\n",
       "  </tbody>\n",
       "</table>\n",
       "</div>"
      ],
      "text/plain": [
       "   bottles_sold\n",
       "0            12\n",
       "1            11\n",
       "2            34\n",
       "3            18\n",
       "4            25"
      ]
     },
     "execution_count": 7,
     "metadata": {},
     "output_type": "execute_result"
    }
   ],
   "source": [
    "columnas_target.head()"
   ]
  },
  {
   "cell_type": "code",
   "execution_count": 8,
   "metadata": {},
   "outputs": [
    {
     "data": {
      "text/html": [
       "<div>\n",
       "<style scoped>\n",
       "    .dataframe tbody tr th:only-of-type {\n",
       "        vertical-align: middle;\n",
       "    }\n",
       "\n",
       "    .dataframe tbody tr th {\n",
       "        vertical-align: top;\n",
       "    }\n",
       "\n",
       "    .dataframe thead th {\n",
       "        text-align: right;\n",
       "    }\n",
       "</style>\n",
       "<table border=\"1\" class=\"dataframe\">\n",
       "  <thead>\n",
       "    <tr style=\"text-align: right;\">\n",
       "      <th></th>\n",
       "      <th>category_name</th>\n",
       "      <th>county</th>\n",
       "    </tr>\n",
       "  </thead>\n",
       "  <tbody>\n",
       "    <tr>\n",
       "      <th>0</th>\n",
       "      <td>GIN</td>\n",
       "      <td>BLACK HAWK</td>\n",
       "    </tr>\n",
       "    <tr>\n",
       "      <th>1</th>\n",
       "      <td>GIN</td>\n",
       "      <td>BLACK HAWK</td>\n",
       "    </tr>\n",
       "    <tr>\n",
       "      <th>2</th>\n",
       "      <td>GIN</td>\n",
       "      <td>BLACK HAWK</td>\n",
       "    </tr>\n",
       "    <tr>\n",
       "      <th>3</th>\n",
       "      <td>GIN</td>\n",
       "      <td>BLACK HAWK</td>\n",
       "    </tr>\n",
       "    <tr>\n",
       "      <th>4</th>\n",
       "      <td>GIN</td>\n",
       "      <td>BLACK HAWK</td>\n",
       "    </tr>\n",
       "  </tbody>\n",
       "</table>\n",
       "</div>"
      ],
      "text/plain": [
       "  category_name      county\n",
       "0           GIN  BLACK HAWK\n",
       "1           GIN  BLACK HAWK\n",
       "2           GIN  BLACK HAWK\n",
       "3           GIN  BLACK HAWK\n",
       "4           GIN  BLACK HAWK"
      ]
     },
     "execution_count": 8,
     "metadata": {},
     "output_type": "execute_result"
    }
   ],
   "source": [
    "columnas_apoyo.head()"
   ]
  },
  {
   "cell_type": "code",
   "execution_count": 9,
   "metadata": {},
   "outputs": [],
   "source": [
    "# CATEGORICAL PIPE\n",
    "categorical_features = ['county', 'category_name']\n",
    "cat_pipe = make_pipeline(\n",
    "    OneHotEncoder(\n",
    "    handle_unknown=\"ignore\",\n",
    "    sparse_output=False\n",
    "    )\n",
    ")\n",
    "# NUMERIC PIPE\n",
    "numerical_features = ['week_year','week_of_year','bottles_sold']\n",
    "num_pipe = make_pipeline(\n",
    "    RobustScaler()\n",
    ")\n",
    "# COMBINED PREPROCESSOR\n",
    "\n",
    "final_preprocessor = ColumnTransformer(\n",
    "    [\n",
    "    (\"cat_preproc\", cat_pipe, categorical_features),\n",
    "    (\"num_preproc\", num_pipe,  numerical_features)\n",
    "    ],\n",
    "    n_jobs=-1,\n",
    "    remainder='passthrough'\n",
    ")"
   ]
  },
  {
   "cell_type": "code",
   "execution_count": 10,
   "metadata": {},
   "outputs": [],
   "source": [
    "X_processed = final_preprocessor.fit_transform(df)\n",
    "col_names = final_preprocessor.get_feature_names_out()"
   ]
  },
  {
   "cell_type": "code",
   "execution_count": 11,
   "metadata": {},
   "outputs": [],
   "source": [
    "data_processed = pd.DataFrame(\n",
    "        X_processed,\n",
    "        columns=col_names\n",
    ")"
   ]
  },
  {
   "cell_type": "code",
   "execution_count": 12,
   "metadata": {},
   "outputs": [
    {
     "name": "stdout",
     "output_type": "stream",
     "text": [
      "(23016, 19)\n",
      "Index(['cat_preproc__county_BLACK HAWK', 'cat_preproc__county_JOHNSON',\n",
      "       'cat_preproc__county_LINN', 'cat_preproc__county_OTHER',\n",
      "       'cat_preproc__county_POLK', 'cat_preproc__county_SCOTT',\n",
      "       'cat_preproc__category_name_GIN', 'cat_preproc__category_name_LIQUEURS',\n",
      "       'cat_preproc__category_name_OTROS', 'cat_preproc__category_name_RUM',\n",
      "       'cat_preproc__category_name_TEQUILA_MEZCAL',\n",
      "       'cat_preproc__category_name_VODKA', 'cat_preproc__category_name_WHISKY',\n",
      "       'num_preproc__week_year', 'num_preproc__week_of_year',\n",
      "       'num_preproc__bottles_sold', 'remainder__date_week',\n",
      "       'remainder__sin_MoSold', 'remainder__cos_MoSold'],\n",
      "      dtype='object')\n"
     ]
    }
   ],
   "source": [
    "print(data_processed.shape)\n",
    "print(data_processed.columns)"
   ]
  },
  {
   "cell_type": "code",
   "execution_count": 13,
   "metadata": {},
   "outputs": [
    {
     "name": "stdout",
     "output_type": "stream",
     "text": [
      "<class 'pandas.core.frame.DataFrame'>\n",
      "RangeIndex: 23016 entries, 0 to 23015\n",
      "Data columns (total 19 columns):\n",
      " #   Column                                     Non-Null Count  Dtype         \n",
      "---  ------                                     --------------  -----         \n",
      " 0   cat_preproc__county_BLACK HAWK             23016 non-null  object        \n",
      " 1   cat_preproc__county_JOHNSON                23016 non-null  object        \n",
      " 2   cat_preproc__county_LINN                   23016 non-null  object        \n",
      " 3   cat_preproc__county_OTHER                  23016 non-null  object        \n",
      " 4   cat_preproc__county_POLK                   23016 non-null  object        \n",
      " 5   cat_preproc__county_SCOTT                  23016 non-null  object        \n",
      " 6   cat_preproc__category_name_GIN             23016 non-null  object        \n",
      " 7   cat_preproc__category_name_LIQUEURS        23016 non-null  object        \n",
      " 8   cat_preproc__category_name_OTROS           23016 non-null  object        \n",
      " 9   cat_preproc__category_name_RUM             23016 non-null  object        \n",
      " 10  cat_preproc__category_name_TEQUILA_MEZCAL  23016 non-null  object        \n",
      " 11  cat_preproc__category_name_VODKA           23016 non-null  object        \n",
      " 12  cat_preproc__category_name_WHISKY          23016 non-null  object        \n",
      " 13  num_preproc__week_year                     23016 non-null  object        \n",
      " 14  num_preproc__week_of_year                  23016 non-null  object        \n",
      " 15  num_preproc__bottles_sold                  23016 non-null  object        \n",
      " 16  remainder__date_week                       23016 non-null  datetime64[ns]\n",
      " 17  remainder__sin_MoSold                      23016 non-null  object        \n",
      " 18  remainder__cos_MoSold                      23016 non-null  object        \n",
      "dtypes: datetime64[ns](1), object(18)\n",
      "memory usage: 3.3+ MB\n",
      "None\n"
     ]
    }
   ],
   "source": [
    "print(data_processed.info())"
   ]
  },
  {
   "cell_type": "code",
   "execution_count": 14,
   "metadata": {},
   "outputs": [],
   "source": [
    "data_processed = pd.concat([data_processed, columnas_apoyo, columnas_target], axis=\"columns\", sort=False)\n",
    "data_processed.columns = data_processed.columns.str.replace(\" \", \"_\")"
   ]
  },
  {
   "cell_type": "code",
   "execution_count": 15,
   "metadata": {},
   "outputs": [
    {
     "name": "stdout",
     "output_type": "stream",
     "text": [
      "(23016, 22)\n",
      "Index(['cat_preproc__county_BLACK_HAWK', 'cat_preproc__county_JOHNSON',\n",
      "       'cat_preproc__county_LINN', 'cat_preproc__county_OTHER',\n",
      "       'cat_preproc__county_POLK', 'cat_preproc__county_SCOTT',\n",
      "       'cat_preproc__category_name_GIN', 'cat_preproc__category_name_LIQUEURS',\n",
      "       'cat_preproc__category_name_OTROS', 'cat_preproc__category_name_RUM',\n",
      "       'cat_preproc__category_name_TEQUILA_MEZCAL',\n",
      "       'cat_preproc__category_name_VODKA', 'cat_preproc__category_name_WHISKY',\n",
      "       'num_preproc__week_year', 'num_preproc__week_of_year',\n",
      "       'num_preproc__bottles_sold', 'remainder__date_week',\n",
      "       'remainder__sin_MoSold', 'remainder__cos_MoSold', 'category_name',\n",
      "       'county', 'bottles_sold'],\n",
      "      dtype='object')\n"
     ]
    }
   ],
   "source": [
    "print(data_processed.shape)\n",
    "print(data_processed.columns)"
   ]
  },
  {
   "cell_type": "code",
   "execution_count": 16,
   "metadata": {},
   "outputs": [
    {
     "name": "stdout",
     "output_type": "stream",
     "text": [
      "<class 'pandas.core.frame.DataFrame'>\n",
      "RangeIndex: 23016 entries, 0 to 23015\n",
      "Data columns (total 22 columns):\n",
      " #   Column                                     Non-Null Count  Dtype         \n",
      "---  ------                                     --------------  -----         \n",
      " 0   cat_preproc__county_BLACK_HAWK             23016 non-null  object        \n",
      " 1   cat_preproc__county_JOHNSON                23016 non-null  object        \n",
      " 2   cat_preproc__county_LINN                   23016 non-null  object        \n",
      " 3   cat_preproc__county_OTHER                  23016 non-null  object        \n",
      " 4   cat_preproc__county_POLK                   23016 non-null  object        \n",
      " 5   cat_preproc__county_SCOTT                  23016 non-null  object        \n",
      " 6   cat_preproc__category_name_GIN             23016 non-null  object        \n",
      " 7   cat_preproc__category_name_LIQUEURS        23016 non-null  object        \n",
      " 8   cat_preproc__category_name_OTROS           23016 non-null  object        \n",
      " 9   cat_preproc__category_name_RUM             23016 non-null  object        \n",
      " 10  cat_preproc__category_name_TEQUILA_MEZCAL  23016 non-null  object        \n",
      " 11  cat_preproc__category_name_VODKA           23016 non-null  object        \n",
      " 12  cat_preproc__category_name_WHISKY          23016 non-null  object        \n",
      " 13  num_preproc__week_year                     23016 non-null  object        \n",
      " 14  num_preproc__week_of_year                  23016 non-null  object        \n",
      " 15  num_preproc__bottles_sold                  23016 non-null  object        \n",
      " 16  remainder__date_week                       23016 non-null  datetime64[ns]\n",
      " 17  remainder__sin_MoSold                      23016 non-null  object        \n",
      " 18  remainder__cos_MoSold                      23016 non-null  object        \n",
      " 19  category_name                              23016 non-null  object        \n",
      " 20  county                                     23016 non-null  object        \n",
      " 21  bottles_sold                               23016 non-null  Int64         \n",
      "dtypes: Int64(1), datetime64[ns](1), object(20)\n",
      "memory usage: 3.9+ MB\n",
      "None\n"
     ]
    }
   ],
   "source": [
    "print(data_processed.info())"
   ]
  },
  {
   "cell_type": "code",
   "execution_count": 17,
   "metadata": {},
   "outputs": [],
   "source": [
    "def create_sequences(df, past_steps=10, future_steps=1):\n",
    "    X, y = [], []\n",
    "    df_x = df.drop(['bottles_sold'],axis='columns').copy()\n",
    "    df_y = df[[\"bottles_sold\"]].copy()\n",
    "    for i in range(len(df) - past_steps - future_steps):\n",
    "        X.append(df_x.iloc[i : i + past_steps].values)  # Past data\n",
    "        y.append(df_y.iloc[i + past_steps : i + past_steps + future_steps][\"bottles_sold\"].values)  # Future target\n",
    "    return np.array(X), np.array(y)\n",
    "\n",
    "def create_sequences_padre(data_preproc, columnas_target, past_steps=10, future_steps=1):\n",
    "    assert len(data_preproc) == len(columnas_target)\n",
    "    df = pd.concat([data_preproc,columnas_target], axis='columns')\n",
    "    X, y = [], []\n",
    "    for county in data_preproc.iloc[:,data_preproc.columns.str.contains('cat_preproc__county_')].columns:\n",
    "        for cat_prod in data_preproc.iloc[:,data_preproc.columns.str.contains('cat_preproc__category_name_')].columns:\n",
    "            df_filtrado = df.query(f\"{county} == 1 and {cat_prod} == 1\")\n",
    "            X_sequence, y_sequence = create_sequences(df_filtrado,past_steps,future_steps)\n",
    "            for x_item in X_sequence:\n",
    "                X.append(x_item)\n",
    "            for y_item in y_sequence:\n",
    "                y.append([y_item])\n",
    "    return np.array(X), np.array(y)\n",
    "\n",
    "\n",
    "def create_sequences_padre_2(data_preproc, columnas_target, past_steps=10, future_steps=1):\n",
    "    assert len(data_preproc) == len(columnas_target)\n",
    "    df = pd.concat([data_preproc, columnas_target], axis='columns')  # Merge target column\n",
    "    X, y = [], []\n",
    "    county_columns = data_preproc.filter(like=\"cat_preproc__county_\").columns\n",
    "    category_columns = data_preproc.filter(like=\"cat_preproc__category_name_\").columns\n",
    "    for county in county_columns:\n",
    "        for cat_prod in category_columns:\n",
    "            df_filtrado = df[(df[county] == 1) & (df[cat_prod] == 1)]\n",
    "            if df_filtrado.empty:  # Skip empty groups\n",
    "                continue\n",
    "            X_sequence, y_sequence = create_sequences(df_filtrado, past_steps, future_steps)\n",
    "            X.extend(X_sequence)\n",
    "            y.extend(y_sequence)\n",
    "\n",
    "    return np.array(X), np.array(y)"
   ]
  },
  {
   "cell_type": "markdown",
   "metadata": {},
   "source": [
    "## "
   ]
  },
  {
   "cell_type": "markdown",
   "metadata": {},
   "source": [
    "## Train"
   ]
  },
  {
   "cell_type": "code",
   "execution_count": 18,
   "metadata": {},
   "outputs": [],
   "source": [
    "def initialize_model(input_shape: tuple) -> Model:\n",
    "    \"\"\"\n",
    "    Initialize the Neural Network with random weights\n",
    "    \"\"\"\n",
    "    model = Sequential()\n",
    "    # Add an explicit Input layer\n",
    "    model.add(Input(shape=input_shape))\n",
    "    model.add(SimpleRNN(units=10, activation='tanh', return_sequences=False))\n",
    "    model.add(Dense(20, activation=\"linear\"))\n",
    "    model.add(Dense(10, activation=\"linear\"))\n",
    "    model.add(Dense(1, activation=\"linear\"))\n",
    "    print(\"✅ Model initialized\")\n",
    "    return model\n",
    "\n",
    "\n",
    "def compile_model(model, learning_rate=0.0005):\n",
    "    \"\"\"\n",
    "    Compile the Neural Network\n",
    "    \"\"\"\n",
    "    optimizer = optimizers.Adam(learning_rate=learning_rate)\n",
    "    model.compile(loss=\"mean_squared_error\", optimizer=optimizer, metrics=[\"mae\"])\n",
    "\n",
    "    print(\"✅ Model compiled\")\n",
    "\n",
    "    return model\n",
    "\n",
    "def train_model(model, X, y, batch_size=256,patience=2, validation_data=None, validation_split=0.3):\n",
    "    \"\"\"\n",
    "    Fit the model and return a tuple (fitted_model, history)\n",
    "    \"\"\"\n",
    "    print(\"\\nTraining model...\")\n",
    "\n",
    "    es = EarlyStopping(\n",
    "        monitor=\"val_loss\",\n",
    "        patience=patience,\n",
    "        restore_best_weights=True,\n",
    "        verbose=1\n",
    "    )\n",
    "\n",
    "    if validation_data:\n",
    "        history = model.fit(\n",
    "            X,\n",
    "            y,\n",
    "            validation_data=validation_data,\n",
    "            epochs=100,\n",
    "            batch_size=batch_size,\n",
    "            callbacks=[es],\n",
    "            verbose=1\n",
    "        )\n",
    "    else:\n",
    "        history = model.fit(\n",
    "            X,\n",
    "            y,\n",
    "            validation_split=validation_split,\n",
    "            epochs=100,\n",
    "            batch_size=batch_size,\n",
    "            callbacks=[es],\n",
    "            verbose=1\n",
    "        )\n",
    "    print(f\"✅ Model trained on {len(X)} rows with min val MAE: {round(np.min(history.history['val_mae']), 2)}\")\n",
    "    return model, history"
   ]
  },
  {
   "cell_type": "code",
   "execution_count": 19,
   "metadata": {},
   "outputs": [],
   "source": [
    "split_ratio: float = 0.20 # 0.02 represents ~ 1 month of validation data on a 2009-2015 train set\n",
    "learning_rate=0.0005\n",
    "batch_size = 256\n",
    "patience = 10"
   ]
  },
  {
   "cell_type": "code",
   "execution_count": 20,
   "metadata": {},
   "outputs": [
    {
     "data": {
      "text/plain": [
       "3"
      ]
     },
     "execution_count": 20,
     "metadata": {},
     "output_type": "execute_result"
    }
   ],
   "source": [
    "len(columnas_target.columns)+len(columnas_apoyo.columns)"
   ]
  },
  {
   "cell_type": "code",
   "execution_count": 21,
   "metadata": {},
   "outputs": [],
   "source": [
    "data_processed = data_processed.iloc[:,:-(len(columnas_target.columns)+len(columnas_apoyo.columns))]\n",
    "data_processed = data_processed.drop('remainder__date_week', axis=1)\n"
   ]
  },
  {
   "cell_type": "code",
   "execution_count": 22,
   "metadata": {},
   "outputs": [
    {
     "name": "stdout",
     "output_type": "stream",
     "text": [
      "Index(['cat_preproc__county_BLACK_HAWK', 'cat_preproc__county_JOHNSON',\n",
      "       'cat_preproc__county_LINN', 'cat_preproc__county_OTHER',\n",
      "       'cat_preproc__county_POLK', 'cat_preproc__county_SCOTT',\n",
      "       'cat_preproc__category_name_GIN', 'cat_preproc__category_name_LIQUEURS',\n",
      "       'cat_preproc__category_name_OTROS', 'cat_preproc__category_name_RUM',\n",
      "       'cat_preproc__category_name_TEQUILA_MEZCAL',\n",
      "       'cat_preproc__category_name_VODKA', 'cat_preproc__category_name_WHISKY',\n",
      "       'num_preproc__week_year', 'num_preproc__week_of_year',\n",
      "       'num_preproc__bottles_sold', 'remainder__sin_MoSold',\n",
      "       'remainder__cos_MoSold'],\n",
      "      dtype='object')\n"
     ]
    }
   ],
   "source": [
    "print(data_processed.columns)"
   ]
  },
  {
   "cell_type": "code",
   "execution_count": 23,
   "metadata": {},
   "outputs": [
    {
     "name": "stdout",
     "output_type": "stream",
     "text": [
      "(23016, 18)\n",
      "<class 'pandas.core.frame.DataFrame'>\n",
      "RangeIndex: 23016 entries, 0 to 23015\n",
      "Data columns (total 18 columns):\n",
      " #   Column                                     Non-Null Count  Dtype \n",
      "---  ------                                     --------------  ----- \n",
      " 0   cat_preproc__county_BLACK_HAWK             23016 non-null  object\n",
      " 1   cat_preproc__county_JOHNSON                23016 non-null  object\n",
      " 2   cat_preproc__county_LINN                   23016 non-null  object\n",
      " 3   cat_preproc__county_OTHER                  23016 non-null  object\n",
      " 4   cat_preproc__county_POLK                   23016 non-null  object\n",
      " 5   cat_preproc__county_SCOTT                  23016 non-null  object\n",
      " 6   cat_preproc__category_name_GIN             23016 non-null  object\n",
      " 7   cat_preproc__category_name_LIQUEURS        23016 non-null  object\n",
      " 8   cat_preproc__category_name_OTROS           23016 non-null  object\n",
      " 9   cat_preproc__category_name_RUM             23016 non-null  object\n",
      " 10  cat_preproc__category_name_TEQUILA_MEZCAL  23016 non-null  object\n",
      " 11  cat_preproc__category_name_VODKA           23016 non-null  object\n",
      " 12  cat_preproc__category_name_WHISKY          23016 non-null  object\n",
      " 13  num_preproc__week_year                     23016 non-null  object\n",
      " 14  num_preproc__week_of_year                  23016 non-null  object\n",
      " 15  num_preproc__bottles_sold                  23016 non-null  object\n",
      " 16  remainder__sin_MoSold                      23016 non-null  object\n",
      " 17  remainder__cos_MoSold                      23016 non-null  object\n",
      "dtypes: object(18)\n",
      "memory usage: 3.2+ MB\n",
      "None\n"
     ]
    }
   ],
   "source": [
    "print(data_processed.shape)\n",
    "print(data_processed.info())"
   ]
  },
  {
   "cell_type": "code",
   "execution_count": 24,
   "metadata": {},
   "outputs": [],
   "source": [
    "for columns in data_processed.columns:\n",
    "    data_processed[columns] = data_processed[columns].astype(float)"
   ]
  },
  {
   "cell_type": "code",
   "execution_count": 25,
   "metadata": {},
   "outputs": [],
   "source": [
    "X, y = create_sequences_padre(data_processed, columnas_target, past_steps=4, future_steps=1)"
   ]
  },
  {
   "cell_type": "code",
   "execution_count": 26,
   "metadata": {},
   "outputs": [],
   "source": [
    "split_index = int((1-split_ratio) * len(X))\n",
    "X_train, X_val = X[:split_index], X[split_index:]\n",
    "y_train, y_val = y[:split_index], y[split_index:]"
   ]
  },
  {
   "cell_type": "code",
   "execution_count": 27,
   "metadata": {},
   "outputs": [
    {
     "name": "stdout",
     "output_type": "stream",
     "text": [
      "Input shape X train completo: (18244, 4, 18)\n",
      "Input shape X val completo: (4562, 4, 18)\n",
      "Input shape y train completo: (18244, 1, 1)\n",
      "Input shape y val completo: (4562, 1, 1)\n"
     ]
    }
   ],
   "source": [
    "print(\"Input shape X train completo:\", X_train.shape)\n",
    "print(\"Input shape X val completo:\", X_val.shape)\n",
    "print(\"Input shape y train completo:\", y_train.shape)\n",
    "print(\"Input shape y val completo:\",y_val.shape)"
   ]
  },
  {
   "cell_type": "code",
   "execution_count": 28,
   "metadata": {},
   "outputs": [
    {
     "data": {
      "text/plain": [
       "20328"
      ]
     },
     "execution_count": 28,
     "metadata": {},
     "output_type": "execute_result"
    }
   ],
   "source": [
    "16262+4066"
   ]
  },
  {
   "cell_type": "code",
   "execution_count": 29,
   "metadata": {},
   "outputs": [
    {
     "data": {
      "text/plain": [
       "20328"
      ]
     },
     "execution_count": 29,
     "metadata": {},
     "output_type": "execute_result"
    }
   ],
   "source": [
    "16262 + 4066"
   ]
  },
  {
   "cell_type": "code",
   "execution_count": 30,
   "metadata": {},
   "outputs": [
    {
     "name": "stdout",
     "output_type": "stream",
     "text": [
      "✅ Model initialized\n",
      "✅ Model compiled\n"
     ]
    }
   ],
   "source": [
    "model = initialize_model(input_shape=X_train.shape[1:])\n",
    "model = compile_model(model, learning_rate=learning_rate)"
   ]
  },
  {
   "cell_type": "code",
   "execution_count": 31,
   "metadata": {},
   "outputs": [
    {
     "name": "stdout",
     "output_type": "stream",
     "text": [
      "\n",
      "Training model...\n",
      "Epoch 1/100\n",
      "\u001b[1m72/72\u001b[0m \u001b[32m━━━━━━━━━━━━━━━━━━━━\u001b[0m\u001b[37m\u001b[0m \u001b[1m1s\u001b[0m 3ms/step - loss: 1060708.3750 - mae: 437.8327 - val_loss: 189861.1406 - val_mae: 251.7824\n",
      "Epoch 2/100\n",
      "\u001b[1m72/72\u001b[0m \u001b[32m━━━━━━━━━━━━━━━━━━━━\u001b[0m\u001b[37m\u001b[0m \u001b[1m0s\u001b[0m 2ms/step - loss: 1058786.8750 - mae: 432.4553 - val_loss: 184003.9375 - val_mae: 243.1882\n",
      "Epoch 3/100\n",
      "\u001b[1m72/72\u001b[0m \u001b[32m━━━━━━━━━━━━━━━━━━━━\u001b[0m\u001b[37m\u001b[0m \u001b[1m0s\u001b[0m 1ms/step - loss: 1002351.4375 - mae: 414.9849 - val_loss: 170784.1875 - val_mae: 227.0612\n",
      "Epoch 4/100\n",
      "\u001b[1m72/72\u001b[0m \u001b[32m━━━━━━━━━━━━━━━━━━━━\u001b[0m\u001b[37m\u001b[0m \u001b[1m0s\u001b[0m 1ms/step - loss: 1074020.8750 - mae: 412.0273 - val_loss: 153112.0156 - val_mae: 217.3590\n",
      "Epoch 5/100\n",
      "\u001b[1m72/72\u001b[0m \u001b[32m━━━━━━━━━━━━━━━━━━━━\u001b[0m\u001b[37m\u001b[0m \u001b[1m0s\u001b[0m 2ms/step - loss: 954695.5625 - mae: 390.4828 - val_loss: 132117.8438 - val_mae: 195.3475\n",
      "Epoch 6/100\n",
      "\u001b[1m72/72\u001b[0m \u001b[32m━━━━━━━━━━━━━━━━━━━━\u001b[0m\u001b[37m\u001b[0m \u001b[1m0s\u001b[0m 1ms/step - loss: 930109.5000 - mae: 372.6787 - val_loss: 107924.8125 - val_mae: 164.4078\n",
      "Epoch 7/100\n",
      "\u001b[1m72/72\u001b[0m \u001b[32m━━━━━━━━━━━━━━━━━━━━\u001b[0m\u001b[37m\u001b[0m \u001b[1m0s\u001b[0m 1ms/step - loss: 893696.4375 - mae: 337.9200 - val_loss: 85458.8125 - val_mae: 142.2128\n",
      "Epoch 8/100\n",
      "\u001b[1m72/72\u001b[0m \u001b[32m━━━━━━━━━━━━━━━━━━━━\u001b[0m\u001b[37m\u001b[0m \u001b[1m0s\u001b[0m 1ms/step - loss: 878822.3125 - mae: 321.4707 - val_loss: 67753.7891 - val_mae: 126.4048\n",
      "Epoch 9/100\n",
      "\u001b[1m72/72\u001b[0m \u001b[32m━━━━━━━━━━━━━━━━━━━━\u001b[0m\u001b[37m\u001b[0m \u001b[1m0s\u001b[0m 1ms/step - loss: 733923.6875 - mae: 285.3996 - val_loss: 55684.3867 - val_mae: 119.3472\n",
      "Epoch 10/100\n",
      "\u001b[1m72/72\u001b[0m \u001b[32m━━━━━━━━━━━━━━━━━━━━\u001b[0m\u001b[37m\u001b[0m \u001b[1m0s\u001b[0m 1ms/step - loss: 671927.8750 - mae: 268.9921 - val_loss: 49527.9141 - val_mae: 114.5779\n",
      "Epoch 11/100\n",
      "\u001b[1m72/72\u001b[0m \u001b[32m━━━━━━━━━━━━━━━━━━━━\u001b[0m\u001b[37m\u001b[0m \u001b[1m0s\u001b[0m 1ms/step - loss: 651173.9375 - mae: 264.6989 - val_loss: 49233.9336 - val_mae: 119.3022\n",
      "Epoch 12/100\n",
      "\u001b[1m72/72\u001b[0m \u001b[32m━━━━━━━━━━━━━━━━━━━━\u001b[0m\u001b[37m\u001b[0m \u001b[1m0s\u001b[0m 2ms/step - loss: 557897.4375 - mae: 239.1000 - val_loss: 52579.4375 - val_mae: 125.3435\n",
      "Epoch 13/100\n",
      "\u001b[1m72/72\u001b[0m \u001b[32m━━━━━━━━━━━━━━━━━━━━\u001b[0m\u001b[37m\u001b[0m \u001b[1m0s\u001b[0m 2ms/step - loss: 509353.0000 - mae: 224.7964 - val_loss: 59849.3164 - val_mae: 139.1317\n",
      "Epoch 14/100\n",
      "\u001b[1m72/72\u001b[0m \u001b[32m━━━━━━━━━━━━━━━━━━━━\u001b[0m\u001b[37m\u001b[0m \u001b[1m0s\u001b[0m 1ms/step - loss: 447304.7500 - mae: 206.9462 - val_loss: 64848.5391 - val_mae: 144.7683\n",
      "Epoch 15/100\n",
      "\u001b[1m72/72\u001b[0m \u001b[32m━━━━━━━━━━━━━━━━━━━━\u001b[0m\u001b[37m\u001b[0m \u001b[1m0s\u001b[0m 2ms/step - loss: 423524.5312 - mae: 205.8086 - val_loss: 67314.0938 - val_mae: 150.5285\n",
      "Epoch 16/100\n",
      "\u001b[1m72/72\u001b[0m \u001b[32m━━━━━━━━━━━━━━━━━━━━\u001b[0m\u001b[37m\u001b[0m \u001b[1m0s\u001b[0m 1ms/step - loss: 356371.5000 - mae: 185.1621 - val_loss: 67340.5234 - val_mae: 149.4235\n",
      "Epoch 17/100\n",
      "\u001b[1m72/72\u001b[0m \u001b[32m━━━━━━━━━━━━━━━━━━━━\u001b[0m\u001b[37m\u001b[0m \u001b[1m0s\u001b[0m 2ms/step - loss: 336653.3438 - mae: 186.9955 - val_loss: 64099.0586 - val_mae: 149.0103\n",
      "Epoch 18/100\n",
      "\u001b[1m72/72\u001b[0m \u001b[32m━━━━━━━━━━━━━━━━━━━━\u001b[0m\u001b[37m\u001b[0m \u001b[1m0s\u001b[0m 2ms/step - loss: 314324.5625 - mae: 182.9992 - val_loss: 62830.2539 - val_mae: 152.4721\n",
      "Epoch 19/100\n",
      "\u001b[1m72/72\u001b[0m \u001b[32m━━━━━━━━━━━━━━━━━━━━\u001b[0m\u001b[37m\u001b[0m \u001b[1m0s\u001b[0m 2ms/step - loss: 258138.4688 - mae: 170.7200 - val_loss: 62995.2344 - val_mae: 154.5008\n",
      "Epoch 20/100\n",
      "\u001b[1m72/72\u001b[0m \u001b[32m━━━━━━━━━━━━━━━━━━━━\u001b[0m\u001b[37m\u001b[0m \u001b[1m0s\u001b[0m 2ms/step - loss: 214357.7500 - mae: 161.5875 - val_loss: 64257.9492 - val_mae: 160.9698\n",
      "Epoch 21/100\n",
      "\u001b[1m72/72\u001b[0m \u001b[32m━━━━━━━━━━━━━━━━━━━━\u001b[0m\u001b[37m\u001b[0m \u001b[1m0s\u001b[0m 1ms/step - loss: 195798.6094 - mae: 160.5091 - val_loss: 64294.8164 - val_mae: 162.3605\n",
      "Epoch 21: early stopping\n",
      "Restoring model weights from the end of the best epoch: 11.\n",
      "✅ Model trained on 18244 rows with min val MAE: 114.58\n"
     ]
    }
   ],
   "source": [
    "model,history = train_model(\n",
    "    model,\n",
    "    X_train,\n",
    "    y_train,\n",
    "    batch_size=batch_size,\n",
    "    patience=patience,\n",
    "    validation_data=(X_val, y_val)\n",
    ")"
   ]
  },
  {
   "cell_type": "code",
   "execution_count": 32,
   "metadata": {},
   "outputs": [
    {
     "name": "stdout",
     "output_type": "stream",
     "text": [
      "val_mae: 114.57785034179688\n"
     ]
    }
   ],
   "source": [
    "if 'val_mae' in history.history:\n",
    "    val_mae = np.min(history.history['val_mae'])\n",
    "else:\n",
    "    val_mae = np.min(history.history['val_loss'])  # Use validation loss instead\n",
    "print(\"val_mae:\", val_mae)"
   ]
  },
  {
   "cell_type": "markdown",
   "metadata": {},
   "source": [
    "## Predict"
   ]
  },
  {
   "cell_type": "code",
   "execution_count": 33,
   "metadata": {},
   "outputs": [
    {
     "data": {
      "text/html": [
       "<div>\n",
       "<style scoped>\n",
       "    .dataframe tbody tr th:only-of-type {\n",
       "        vertical-align: middle;\n",
       "    }\n",
       "\n",
       "    .dataframe tbody tr th {\n",
       "        vertical-align: top;\n",
       "    }\n",
       "\n",
       "    .dataframe thead th {\n",
       "        text-align: right;\n",
       "    }\n",
       "</style>\n",
       "<table border=\"1\" class=\"dataframe\">\n",
       "  <thead>\n",
       "    <tr style=\"text-align: right;\">\n",
       "      <th></th>\n",
       "      <th>date_week</th>\n",
       "      <th>category_name</th>\n",
       "      <th>county</th>\n",
       "      <th>week_year</th>\n",
       "      <th>week_of_year</th>\n",
       "      <th>bottles_sold</th>\n",
       "    </tr>\n",
       "  </thead>\n",
       "  <tbody>\n",
       "    <tr>\n",
       "      <th>0</th>\n",
       "      <td>2024-12-29</td>\n",
       "      <td>GIN</td>\n",
       "      <td>BLACK HAWK</td>\n",
       "      <td>2024</td>\n",
       "      <td>52</td>\n",
       "      <td>4</td>\n",
       "    </tr>\n",
       "    <tr>\n",
       "      <th>1</th>\n",
       "      <td>2025-01-05</td>\n",
       "      <td>GIN</td>\n",
       "      <td>BLACK HAWK</td>\n",
       "      <td>2025</td>\n",
       "      <td>0</td>\n",
       "      <td>26</td>\n",
       "    </tr>\n",
       "    <tr>\n",
       "      <th>2</th>\n",
       "      <td>2025-01-12</td>\n",
       "      <td>GIN</td>\n",
       "      <td>BLACK HAWK</td>\n",
       "      <td>2025</td>\n",
       "      <td>1</td>\n",
       "      <td>15</td>\n",
       "    </tr>\n",
       "    <tr>\n",
       "      <th>3</th>\n",
       "      <td>2025-01-19</td>\n",
       "      <td>GIN</td>\n",
       "      <td>BLACK HAWK</td>\n",
       "      <td>2025</td>\n",
       "      <td>2</td>\n",
       "      <td>33</td>\n",
       "    </tr>\n",
       "    <tr>\n",
       "      <th>4</th>\n",
       "      <td>2025-01-26</td>\n",
       "      <td>GIN</td>\n",
       "      <td>BLACK HAWK</td>\n",
       "      <td>2025</td>\n",
       "      <td>3</td>\n",
       "      <td>3</td>\n",
       "    </tr>\n",
       "  </tbody>\n",
       "</table>\n",
       "</div>"
      ],
      "text/plain": [
       "    date_week category_name      county  week_year  week_of_year  bottles_sold\n",
       "0  2024-12-29           GIN  BLACK HAWK       2024            52             4\n",
       "1  2025-01-05           GIN  BLACK HAWK       2025             0            26\n",
       "2  2025-01-12           GIN  BLACK HAWK       2025             1            15\n",
       "3  2025-01-19           GIN  BLACK HAWK       2025             2            33\n",
       "4  2025-01-26           GIN  BLACK HAWK       2025             3             3"
      ]
     },
     "execution_count": 33,
     "metadata": {},
     "output_type": "execute_result"
    }
   ],
   "source": [
    "query = f\"\"\"\n",
    "        with clean_data as (\n",
    "                select * EXCEPT (store_number, zip_code, category, vendor_number, county_number),\n",
    "                CAST(store_number AS NUMERIC) as store_number ,\n",
    "                CAST(zip_code AS NUMERIC) as zip_code ,\n",
    "                CAST(category AS NUMERIC) as category,\n",
    "                CAST(vendor_number AS NUMERIC) as vendor_number\n",
    "                from `bigquery-public-data.iowa_liquor_sales.sales`\n",
    "                where date >= '2025-01-01' and date <= '2025-01-31'\n",
    "                --and CAST(vendor_number AS NUMERIC) in (260,421,65,370,85,434,35,301,259,115,395,55,420,205,380,192,297,300,255,389)\n",
    "                ORDER BY date ASC\n",
    "        ),\n",
    "        distinct_vendor as (\n",
    "                select\n",
    "                CAST(vendor_number AS NUMERIC) as vendor_number,\n",
    "                ARRAY_TO_STRING(ARRAY_AGG(vendor_name ORDER BY date DESC LIMIT 1),\"\") as vendor_name\n",
    "                from `bigquery-public-data.iowa_liquor_sales.sales`\n",
    "                group by 1\n",
    "        ),\n",
    "        distinct_category as (\n",
    "                select\n",
    "                CAST(category AS NUMERIC) as category,\n",
    "                ARRAY_TO_STRING(ARRAY_AGG(category_name ORDER BY date DESC LIMIT 1),\"\") as category_name\n",
    "                from `bigquery-public-data.iowa_liquor_sales.sales`\n",
    "                group by 1\n",
    "        ),\n",
    "        distinct_store as (\n",
    "                select\n",
    "                CAST(store_number AS NUMERIC) as store_number,\n",
    "                ARRAY_TO_STRING(ARRAY_AGG(store_name ORDER BY date DESC LIMIT 1),\"\") as store_name\n",
    "                from `bigquery-public-data.iowa_liquor_sales.sales`\n",
    "                group by 1\n",
    "        ), clean_data2 as (\n",
    "        select\n",
    "                cd.* EXCEPT (vendor_name, category_name, store_name),\n",
    "                dv.vendor_name,\n",
    "                dc.category_name,\n",
    "                ds.store_name\n",
    "        from clean_data cd\n",
    "        left join distinct_vendor dv on cd.vendor_number = dv.vendor_number\n",
    "        left join distinct_category dc on cd.category = dc.category\n",
    "        left join distinct_store ds on cd.store_number = ds.store_number\n",
    "        ), group_and_others as (\n",
    "        SELECT date,\n",
    "        case when county in ('POLK','LINN','SCOTT','BLACK HAWK','JOHNSON') then county else 'OTHER' END AS county, #'POTTAWATTAMIE','DUBUQUE','STORY','WOODBURY','DALLAS'\n",
    "        CASE\n",
    "        WHEN category_name like '%RUM%' THEN 'RUM'\n",
    "        WHEN category_name like '%VODKA%' THEN 'VODKA'\n",
    "        WHEN category_name like '%WHISK%' or  category_name like '%SCOTCH%' THEN 'WHISKY'\n",
    "        WHEN category_name like '%TEQUILA%' or category_name like '%MEZCAL%' THEN 'TEQUILA_MEZCAL'\n",
    "        WHEN category_name like '%LIQUEUR%' THEN 'LIQUEURS'\n",
    "        WHEN category_name like '%GIN%' THEN 'GIN'\n",
    "        else 'OTROS'\n",
    "        end as category_name,\n",
    "        case when vendor_name in ('SAZERAC COMPANY  INC','DIAGEO AMERICAS','HEAVEN HILL BRANDS','LUXCO INC','JIM BEAM BRANDS','FIFTH GENERATION INC','PERNOD RICARD USA','MCCORMICK DISTILLING CO.','BACARDI USA INC','E & J GALLO WINERY') then vendor_name else 'OTHER' END as vendor_name,\n",
    "        sum(bottles_sold) as bottles_sold\n",
    "        FROM clean_data2\n",
    "        group by 1,2,3,4\n",
    "        ), summary as (\n",
    "        select\n",
    "        * EXCEPT (vendor_name)\n",
    "        from group_and_others\n",
    "        where lower(vendor_name) like '%bacardi%'\n",
    "        ), combinations as (\n",
    "        SELECT\n",
    "          *\n",
    "          FROM UNNEST(GENERATE_DATE_ARRAY('2025-01-01', '2025-01-31', INTERVAL 1 DAY)) as date\n",
    "          cross join (select distinct category_name from summary) a\n",
    "          cross join (select distinct county from summary) b\n",
    "          ), data_combinations as (\n",
    "        select c.*,\n",
    "        date_trunc(c.date, WEEK) as date_week,\n",
    "          coalesce(s.bottles_sold,0) as bottles_sold\n",
    "          from combinations c\n",
    "          left join summary s on c.date = s.date and c.category_name = s.category_name and c.county = s.county\n",
    "          )\n",
    "          select date_week, category_name, county,\n",
    "          extract(YEAR FROM date_week) as week_year,\n",
    "          extract(WEEK(MONDAY) from date_week) as week_of_year,\n",
    "           sum(bottles_sold) as bottles_sold\n",
    "           from data_combinations\n",
    "           group by 1,2,3,4,5\n",
    "           order by county asc, category_name asc, date_week asc\n",
    "\n",
    "    \"\"\"\n",
    "\n",
    "# Fetch results using BigQuery Storage API\n",
    "df_pred = client.query(query).to_dataframe(bqstorage_client=bqstorage_client)\n",
    "\n",
    "# Display results\n",
    "df_pred.head()"
   ]
  },
  {
   "cell_type": "code",
   "execution_count": 34,
   "metadata": {},
   "outputs": [],
   "source": [
    "month_in_year = 12\n",
    "df_pred['date_week'] = pd.to_datetime(df_pred['date_week'])\n",
    "df_pred['num_month'] = df_pred['date_week'].dt.month\n",
    "df_pred['sin_MoSold'] = np.sin(2*np.pi*df_pred.num_month/month_in_year)\n",
    "df_pred['cos_MoSold'] = np.cos(2*np.pi*df_pred.num_month/month_in_year)\n",
    "df_pred = df_pred.drop('num_month', axis=1)\n",
    "X_pred = final_preprocessor.transform(df_pred)\n",
    "col_names_pred = final_preprocessor.get_feature_names_out()"
   ]
  },
  {
   "cell_type": "code",
   "execution_count": 35,
   "metadata": {},
   "outputs": [],
   "source": [
    "X_pred_processed = pd.DataFrame(\n",
    "    X_pred,\n",
    "    columns=col_names_pred\n",
    ")"
   ]
  },
  {
   "cell_type": "code",
   "execution_count": 36,
   "metadata": {},
   "outputs": [
    {
     "name": "stdout",
     "output_type": "stream",
     "text": [
      "(210, 18)\n",
      "<class 'pandas.core.frame.DataFrame'>\n",
      "RangeIndex: 210 entries, 0 to 209\n",
      "Data columns (total 18 columns):\n",
      " #   Column                                     Non-Null Count  Dtype  \n",
      "---  ------                                     --------------  -----  \n",
      " 0   cat_preproc__county_BLACK_HAWK             210 non-null    float64\n",
      " 1   cat_preproc__county_JOHNSON                210 non-null    float64\n",
      " 2   cat_preproc__county_LINN                   210 non-null    float64\n",
      " 3   cat_preproc__county_OTHER                  210 non-null    float64\n",
      " 4   cat_preproc__county_POLK                   210 non-null    float64\n",
      " 5   cat_preproc__county_SCOTT                  210 non-null    float64\n",
      " 6   cat_preproc__category_name_GIN             210 non-null    float64\n",
      " 7   cat_preproc__category_name_LIQUEURS        210 non-null    float64\n",
      " 8   cat_preproc__category_name_OTROS           210 non-null    float64\n",
      " 9   cat_preproc__category_name_RUM             210 non-null    float64\n",
      " 10  cat_preproc__category_name_TEQUILA_MEZCAL  210 non-null    float64\n",
      " 11  cat_preproc__category_name_VODKA           210 non-null    float64\n",
      " 12  cat_preproc__category_name_WHISKY          210 non-null    float64\n",
      " 13  num_preproc__week_year                     210 non-null    float64\n",
      " 14  num_preproc__week_of_year                  210 non-null    float64\n",
      " 15  num_preproc__bottles_sold                  210 non-null    float64\n",
      " 16  remainder__sin_MoSold                      210 non-null    float64\n",
      " 17  remainder__cos_MoSold                      210 non-null    float64\n",
      "dtypes: float64(18)\n",
      "memory usage: 29.7 KB\n"
     ]
    }
   ],
   "source": [
    "X_pred_processed = X_pred_processed.drop('remainder__date_week', axis=1)\n",
    "for columns in X_pred_processed.columns:\n",
    "    X_pred_processed[columns] = X_pred_processed[columns].astype(float)\n",
    "\n",
    "X_pred_processed.columns = X_pred_processed.columns.str.replace(\" \", \"_\")\n",
    "print(X_pred_processed.shape)\n",
    "X_pred_processed.info()"
   ]
  },
  {
   "cell_type": "code",
   "execution_count": null,
   "metadata": {},
   "outputs": [],
   "source": [
    "def create_sequences_inference(data_preproc, past_steps=52):\n",
    "    \"\"\"\n",
    "    Create sequences from new unseen data for inference (prediction).\n",
    "    Returns only X_pred (input features), without y.\n",
    "    \"\"\"\n",
    "    X_pred = []\n",
    "    # Ensure that we have at least 'past_steps' weeks of data\n",
    "    if len(data_preproc) < past_steps:\n",
    "        raise ValueError(f\"Not enough data. Need at least {past_steps} weeks, got {len(data_preproc)}\")\n",
    "\n",
    "    for county in data_preproc.iloc[:, data_preproc.columns.str.contains('cat_preproc__county_')].columns:\n",
    "        for cat_prod in data_preproc.iloc[:, data_preproc.columns.str.contains('cat_preproc__category_name_')].columns:\n",
    "            df_filtrado = data_preproc.query(f\"{county} == 1 and {cat_prod} == 1\")\n",
    "\n",
    "            # Extract the last 'past_steps' weeks\n",
    "            if len(df_filtrado) >= past_steps:\n",
    "                X_pred.append(df_filtrado.iloc[-past_steps:].values)  # Last x weeks\n",
    "\n",
    "    return np.array(X_pred)  # Shape: (num_groups, past_steps, num_features)\n"
   ]
  },
  {
   "cell_type": "code",
   "execution_count": 38,
   "metadata": {},
   "outputs": [],
   "source": [
    "X_pred_final = create_sequences_inference(X_pred_processed, past_steps=4)"
   ]
  },
  {
   "cell_type": "code",
   "execution_count": 39,
   "metadata": {},
   "outputs": [
    {
     "name": "stdout",
     "output_type": "stream",
     "text": [
      "\u001b[1m2/2\u001b[0m \u001b[32m━━━━━━━━━━━━━━━━━━━━\u001b[0m\u001b[37m\u001b[0m \u001b[1m0s\u001b[0m 70ms/step\n"
     ]
    }
   ],
   "source": [
    "y_pred = model.predict(X_pred_final)"
   ]
  },
  {
   "cell_type": "code",
   "execution_count": 40,
   "metadata": {},
   "outputs": [
    {
     "data": {
      "text/plain": [
       "(42, 1)"
      ]
     },
     "execution_count": 40,
     "metadata": {},
     "output_type": "execute_result"
    }
   ],
   "source": [
    "y_pred.shape"
   ]
  },
  {
   "cell_type": "code",
   "execution_count": 41,
   "metadata": {},
   "outputs": [
    {
     "name": "stdout",
     "output_type": "stream",
     "text": [
      "[[ 36.34295 ]\n",
      " [ 89.21553 ]\n",
      " [ 60.200436]\n",
      " [513.2979  ]\n",
      " [226.74527 ]\n",
      " [229.08553 ]\n",
      " [ 22.60189 ]\n",
      " [ 83.38614 ]\n",
      " [ 95.65518 ]\n",
      " [ 88.912605]\n",
      " [486.33463 ]\n",
      " [152.55823 ]\n",
      " [144.58087 ]\n",
      " [ 78.73123 ]\n",
      " [ 62.770832]\n",
      " [ 66.13051 ]\n",
      " [ 45.90396 ]\n",
      " [681.16473 ]\n",
      " [211.61093 ]\n",
      " [166.39009 ]\n",
      " [ 43.343826]\n",
      " [203.8587  ]\n",
      " [179.49043 ]\n",
      " [127.19177 ]\n",
      " [934.00446 ]\n",
      " [918.8147  ]\n",
      " [828.06366 ]\n",
      " [270.96906 ]\n",
      " [197.57367 ]\n",
      " [163.53246 ]\n",
      " [ 88.93208 ]\n",
      " [926.0684  ]\n",
      " [817.675   ]\n",
      " [561.0117  ]\n",
      " [214.74748 ]\n",
      " [151.11803 ]\n",
      " [ 41.398396]\n",
      " [ 49.434925]\n",
      " [742.43604 ]\n",
      " [271.43863 ]\n",
      " [317.44363 ]\n",
      " [ 44.5031  ]]\n"
     ]
    }
   ],
   "source": [
    "print(y_pred)"
   ]
  },
  {
   "cell_type": "code",
   "execution_count": 190,
   "metadata": {},
   "outputs": [],
   "source": [
    "def predict_future(model, last_sequence, future_steps=3):\n",
    "    \"\"\"\n",
    "    Predict future sales for 'future_steps' weeks using autoregressive forecasting.\n",
    "    \"\"\"\n",
    "    future_preds = []\n",
    "    current_seq = last_sequence.copy()  # Start with the last available sequence\n",
    "\n",
    "    for _ in range(future_steps):\n",
    "        # Make prediction (expecting shape (1, 52, 18))\n",
    "        next_pred = model.predict(current_seq.reshape(1, *current_seq.shape), verbose=0)\n",
    "\n",
    "        # Extract prediction (assuming it's a single value per step)\n",
    "        next_pred_value = next_pred.flatten()[0]\n",
    "        future_preds.append(next_pred_value)\n",
    "\n",
    "        # Create new row with predicted value and keep other features unchanged\n",
    "        new_row = current_seq[-1].copy()  # Take last row as reference\n",
    "        new_row[0] = next_pred_value  # Replace the bottles_sold value (assuming it's the first column)\n",
    "\n",
    "        # Shift sequence and insert new prediction\n",
    "        current_seq = np.roll(current_seq, shift=-1, axis=0)\n",
    "        current_seq[-1] = new_row  # Replace last row with updated prediction\n",
    "\n",
    "    return future_preds\n"
   ]
  },
  {
   "cell_type": "code",
   "execution_count": null,
   "metadata": {},
   "outputs": [
    {
     "ename": "ValueError",
     "evalue": "Exception encountered when calling Sequential.call().\n\n\u001b[1mCannot take the length of shape with unknown rank.\u001b[0m\n\nArguments received by Sequential.call():\n  • inputs=tf.Tensor(shape=<unknown>, dtype=float32)\n  • training=False\n  • mask=None",
     "output_type": "error",
     "traceback": [
      "\u001b[0;31m---------------------------------------------------------------------------\u001b[0m",
      "\u001b[0;31mValueError\u001b[0m                                Traceback (most recent call last)",
      "Cell \u001b[0;32mIn[191], line 1\u001b[0m\n\u001b[0;32m----> 1\u001b[0m y_future \u001b[38;5;241m=\u001b[39m \u001b[43mpredict_future\u001b[49m\u001b[43m(\u001b[49m\u001b[43mmodel\u001b[49m\u001b[43m,\u001b[49m\u001b[43mX_pred_final\u001b[49m\u001b[43m,\u001b[49m\u001b[43m  \u001b[49m\u001b[43mfuture_steps\u001b[49m\u001b[38;5;241;43m=\u001b[39;49m\u001b[38;5;241;43m2\u001b[39;49m\u001b[43m)\u001b[49m\n",
      "Cell \u001b[0;32mIn[190], line 10\u001b[0m, in \u001b[0;36mpredict_future\u001b[0;34m(model, last_sequence, future_steps)\u001b[0m\n\u001b[1;32m      6\u001b[0m current_seq \u001b[38;5;241m=\u001b[39m last_sequence\u001b[38;5;241m.\u001b[39mcopy()  \u001b[38;5;66;03m# Start with the last available sequence\u001b[39;00m\n\u001b[1;32m      8\u001b[0m \u001b[38;5;28;01mfor\u001b[39;00m _ \u001b[38;5;129;01min\u001b[39;00m \u001b[38;5;28mrange\u001b[39m(future_steps):\n\u001b[1;32m      9\u001b[0m     \u001b[38;5;66;03m# Make prediction (expecting shape (1, 52, 18))\u001b[39;00m\n\u001b[0;32m---> 10\u001b[0m     next_pred \u001b[38;5;241m=\u001b[39m \u001b[43mmodel\u001b[49m\u001b[38;5;241;43m.\u001b[39;49m\u001b[43mpredict\u001b[49m\u001b[43m(\u001b[49m\u001b[43mcurrent_seq\u001b[49m\u001b[38;5;241;43m.\u001b[39;49m\u001b[43mreshape\u001b[49m\u001b[43m(\u001b[49m\u001b[38;5;241;43m1\u001b[39;49m\u001b[43m,\u001b[49m\u001b[43m \u001b[49m\u001b[38;5;241;43m*\u001b[39;49m\u001b[43mcurrent_seq\u001b[49m\u001b[38;5;241;43m.\u001b[39;49m\u001b[43mshape\u001b[49m\u001b[43m)\u001b[49m\u001b[43m,\u001b[49m\u001b[43m \u001b[49m\u001b[43mverbose\u001b[49m\u001b[38;5;241;43m=\u001b[39;49m\u001b[38;5;241;43m0\u001b[39;49m\u001b[43m)\u001b[49m\n\u001b[1;32m     12\u001b[0m     \u001b[38;5;66;03m# Extract prediction (assuming it's a single value per step)\u001b[39;00m\n\u001b[1;32m     13\u001b[0m     next_pred_value \u001b[38;5;241m=\u001b[39m next_pred\u001b[38;5;241m.\u001b[39mflatten()[\u001b[38;5;241m0\u001b[39m]\n",
      "File \u001b[0;32m~/.pyenv/versions/3.10.6/envs/liquor_demand_forecasting/lib/python3.10/site-packages/keras/src/utils/traceback_utils.py:122\u001b[0m, in \u001b[0;36mfilter_traceback.<locals>.error_handler\u001b[0;34m(*args, **kwargs)\u001b[0m\n\u001b[1;32m    119\u001b[0m     filtered_tb \u001b[38;5;241m=\u001b[39m _process_traceback_frames(e\u001b[38;5;241m.\u001b[39m__traceback__)\n\u001b[1;32m    120\u001b[0m     \u001b[38;5;66;03m# To get the full stack trace, call:\u001b[39;00m\n\u001b[1;32m    121\u001b[0m     \u001b[38;5;66;03m# `keras.config.disable_traceback_filtering()`\u001b[39;00m\n\u001b[0;32m--> 122\u001b[0m     \u001b[38;5;28;01mraise\u001b[39;00m e\u001b[38;5;241m.\u001b[39mwith_traceback(filtered_tb) \u001b[38;5;28;01mfrom\u001b[39;00m\u001b[38;5;250m \u001b[39m\u001b[38;5;28;01mNone\u001b[39;00m\n\u001b[1;32m    123\u001b[0m \u001b[38;5;28;01mfinally\u001b[39;00m:\n\u001b[1;32m    124\u001b[0m     \u001b[38;5;28;01mdel\u001b[39;00m filtered_tb\n",
      "File \u001b[0;32m~/.pyenv/versions/3.10.6/envs/liquor_demand_forecasting/lib/python3.10/site-packages/keras/src/utils/traceback_utils.py:122\u001b[0m, in \u001b[0;36mfilter_traceback.<locals>.error_handler\u001b[0;34m(*args, **kwargs)\u001b[0m\n\u001b[1;32m    119\u001b[0m     filtered_tb \u001b[38;5;241m=\u001b[39m _process_traceback_frames(e\u001b[38;5;241m.\u001b[39m__traceback__)\n\u001b[1;32m    120\u001b[0m     \u001b[38;5;66;03m# To get the full stack trace, call:\u001b[39;00m\n\u001b[1;32m    121\u001b[0m     \u001b[38;5;66;03m# `keras.config.disable_traceback_filtering()`\u001b[39;00m\n\u001b[0;32m--> 122\u001b[0m     \u001b[38;5;28;01mraise\u001b[39;00m e\u001b[38;5;241m.\u001b[39mwith_traceback(filtered_tb) \u001b[38;5;28;01mfrom\u001b[39;00m\u001b[38;5;250m \u001b[39m\u001b[38;5;28;01mNone\u001b[39;00m\n\u001b[1;32m    123\u001b[0m \u001b[38;5;28;01mfinally\u001b[39;00m:\n\u001b[1;32m    124\u001b[0m     \u001b[38;5;28;01mdel\u001b[39;00m filtered_tb\n",
      "\u001b[0;31mValueError\u001b[0m: Exception encountered when calling Sequential.call().\n\n\u001b[1mCannot take the length of shape with unknown rank.\u001b[0m\n\nArguments received by Sequential.call():\n  • inputs=tf.Tensor(shape=<unknown>, dtype=float32)\n  • training=False\n  • mask=None"
     ]
    }
   ],
   "source": [
    "y_future = predict_future(model, X_pred_final, future_steps=2)"
   ]
  },
  {
   "cell_type": "code",
   "execution_count": null,
   "metadata": {},
   "outputs": [],
   "source": []
  }
 ],
 "metadata": {
  "kernelspec": {
   "display_name": "liquor_demand_forecasting",
   "language": "python",
   "name": "python3"
  },
  "language_info": {
   "codemirror_mode": {
    "name": "ipython",
    "version": 3
   },
   "file_extension": ".py",
   "mimetype": "text/x-python",
   "name": "python",
   "nbconvert_exporter": "python",
   "pygments_lexer": "ipython3",
   "version": "3.10.6"
  }
 },
 "nbformat": 4,
 "nbformat_minor": 2
}
