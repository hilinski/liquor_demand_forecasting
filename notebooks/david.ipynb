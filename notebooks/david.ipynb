{
 "cells": [
  {
   "cell_type": "code",
   "execution_count": 7,
   "metadata": {},
   "outputs": [],
   "source": [
    "from google.cloud import bigquery\n",
    "from google.cloud import bigquery_storage\n",
    "import db_dtypes\n",
    "import pandas as pd\n",
    "import seaborn as sns\n",
    "import matplotlib.pyplot as plt\n",
    "from sklearn.metrics import mean_squared_error\n",
    "from sklearn.preprocessing import MinMaxScaler, RobustScaler, OneHotEncoder, LabelEncoder\n",
    "from sklearn.pipeline import Pipeline, make_pipeline, make_union\n",
    "from sklearn.compose import make_column_transformer\n",
    "import warnings\n",
    "warnings.simplefilter(action='ignore')\n",
    "from pathlib import Path\n"
   ]
  },
  {
   "cell_type": "code",
   "execution_count": 1,
   "metadata": {},
   "outputs": [
    {
     "name": "stdout",
     "output_type": "stream",
     "text": [
      "/Users/davids./code/davidSA10/gcp/nth-fiber-448914-a7-c1adcd74a08c.json\n"
     ]
    }
   ],
   "source": [
    "from google.cloud import storage\n",
    "\n",
    "# Verifica que GOOGLE_APPLICATION_CREDENTIALS esté configurado\n",
    "import os\n",
    "print(os.environ.get('GOOGLE_APPLICATION_CREDENTIALS'))\n",
    "\n",
    "# Tu código aquí\n",
    "client = storage.Client()"
   ]
  },
  {
   "cell_type": "code",
   "execution_count": 4,
   "metadata": {},
   "outputs": [
    {
     "data": {
      "text/html": [
       "<div>\n",
       "<style scoped>\n",
       "    .dataframe tbody tr th:only-of-type {\n",
       "        vertical-align: middle;\n",
       "    }\n",
       "\n",
       "    .dataframe tbody tr th {\n",
       "        vertical-align: top;\n",
       "    }\n",
       "\n",
       "    .dataframe thead th {\n",
       "        text-align: right;\n",
       "    }\n",
       "</style>\n",
       "<table border=\"1\" class=\"dataframe\">\n",
       "  <thead>\n",
       "    <tr style=\"text-align: right;\">\n",
       "      <th></th>\n",
       "      <th>invoice_and_item_number</th>\n",
       "      <th>date</th>\n",
       "      <th>address</th>\n",
       "      <th>city</th>\n",
       "      <th>store_location</th>\n",
       "      <th>county</th>\n",
       "      <th>item_number</th>\n",
       "      <th>item_description</th>\n",
       "      <th>pack</th>\n",
       "      <th>bottle_volume_ml</th>\n",
       "      <th>...</th>\n",
       "      <th>sale_dollars</th>\n",
       "      <th>volume_sold_liters</th>\n",
       "      <th>volume_sold_gallons</th>\n",
       "      <th>store_number</th>\n",
       "      <th>zip_code</th>\n",
       "      <th>category</th>\n",
       "      <th>vendor_number</th>\n",
       "      <th>vendor_name</th>\n",
       "      <th>category_name</th>\n",
       "      <th>store_name</th>\n",
       "    </tr>\n",
       "  </thead>\n",
       "  <tbody>\n",
       "    <tr>\n",
       "      <th>0</th>\n",
       "      <td>RINV-04457500342</td>\n",
       "      <td>2023-01-11</td>\n",
       "      <td>1422 FLAMMANG DR</td>\n",
       "      <td>WATERLOO</td>\n",
       "      <td>POINT(-92.32789 42.45998)</td>\n",
       "      <td>BLACK HAWK</td>\n",
       "      <td>5036</td>\n",
       "      <td>GLENLIVET 12YR</td>\n",
       "      <td>12</td>\n",
       "      <td>750</td>\n",
       "      <td>...</td>\n",
       "      <td>-167.88</td>\n",
       "      <td>-3.00</td>\n",
       "      <td>-0.79</td>\n",
       "      <td>2538.000000000</td>\n",
       "      <td>50702.000000000</td>\n",
       "      <td>1012300.000000000</td>\n",
       "      <td>370.000000000</td>\n",
       "      <td>[PERNOD RICARD USA]</td>\n",
       "      <td>[SINGLE MALT SCOTCH]</td>\n",
       "      <td>[HY-VEE FOOD STORE #3 (1866) / WATERLOO]</td>\n",
       "    </tr>\n",
       "    <tr>\n",
       "      <th>1</th>\n",
       "      <td>RINV-04554900156</td>\n",
       "      <td>2023-03-16</td>\n",
       "      <td>555 S 51ST ST</td>\n",
       "      <td>WEST DES MOINES</td>\n",
       "      <td>POINT(-93.77293 41.56036)</td>\n",
       "      <td>POLK</td>\n",
       "      <td>21538</td>\n",
       "      <td>STAGG BOURBON</td>\n",
       "      <td>6</td>\n",
       "      <td>750</td>\n",
       "      <td>...</td>\n",
       "      <td>-39.00</td>\n",
       "      <td>-0.75</td>\n",
       "      <td>-0.19</td>\n",
       "      <td>2648.000000000</td>\n",
       "      <td>50265.000000000</td>\n",
       "      <td>1011200.000000000</td>\n",
       "      <td>421.000000000</td>\n",
       "      <td>[SAZERAC COMPANY  INC]</td>\n",
       "      <td>[STRAIGHT BOURBON WHISKIES]</td>\n",
       "      <td>[HY-VEE #4 / WDM]</td>\n",
       "    </tr>\n",
       "    <tr>\n",
       "      <th>2</th>\n",
       "      <td>INV-55652000072</td>\n",
       "      <td>2023-02-07</td>\n",
       "      <td>901 KELLY ST</td>\n",
       "      <td>CHARLES CITY</td>\n",
       "      <td>POINT(-92.67553 43.06702)</td>\n",
       "      <td>FLOYD</td>\n",
       "      <td>11771</td>\n",
       "      <td>BLACK VELVET MINI</td>\n",
       "      <td>8</td>\n",
       "      <td>50</td>\n",
       "      <td>...</td>\n",
       "      <td>12.75</td>\n",
       "      <td>0.05</td>\n",
       "      <td>0.01</td>\n",
       "      <td>2578.000000000</td>\n",
       "      <td>50616.000000000</td>\n",
       "      <td>1012100.000000000</td>\n",
       "      <td>259.000000000</td>\n",
       "      <td>[HEAVEN HILL BRANDS]</td>\n",
       "      <td>[CANADIAN WHISKIES]</td>\n",
       "      <td>[HY-VEE / CHARLES CITY]</td>\n",
       "    </tr>\n",
       "    <tr>\n",
       "      <th>3</th>\n",
       "      <td>INV-56174000007</td>\n",
       "      <td>2023-02-24</td>\n",
       "      <td>505 BOYSON RD NE</td>\n",
       "      <td>CEDAR RAPIDS</td>\n",
       "      <td>POINT(-91.63912 42.04672)</td>\n",
       "      <td>LINN</td>\n",
       "      <td>11771</td>\n",
       "      <td>BLACK VELVET MINI</td>\n",
       "      <td>8</td>\n",
       "      <td>50</td>\n",
       "      <td>...</td>\n",
       "      <td>12.75</td>\n",
       "      <td>0.05</td>\n",
       "      <td>0.01</td>\n",
       "      <td>2618.000000000</td>\n",
       "      <td>52402.000000000</td>\n",
       "      <td>1012100.000000000</td>\n",
       "      <td>259.000000000</td>\n",
       "      <td>[HEAVEN HILL BRANDS]</td>\n",
       "      <td>[CANADIAN WHISKIES]</td>\n",
       "      <td>[HY-VEE DRUGSTORE #6 / CEDAR RAPIDS]</td>\n",
       "    </tr>\n",
       "    <tr>\n",
       "      <th>4</th>\n",
       "      <td>INV-56518800030</td>\n",
       "      <td>2023-03-09</td>\n",
       "      <td>4510 MORTENSEN RD</td>\n",
       "      <td>AMES</td>\n",
       "      <td>POINT(-93.67956 42.01212)</td>\n",
       "      <td>STORY</td>\n",
       "      <td>11771</td>\n",
       "      <td>BLACK VELVET MINI</td>\n",
       "      <td>8</td>\n",
       "      <td>50</td>\n",
       "      <td>...</td>\n",
       "      <td>13.31</td>\n",
       "      <td>0.05</td>\n",
       "      <td>0.01</td>\n",
       "      <td>4428.000000000</td>\n",
       "      <td>50014.000000000</td>\n",
       "      <td>1012100.000000000</td>\n",
       "      <td>259.000000000</td>\n",
       "      <td>[HEAVEN HILL BRANDS]</td>\n",
       "      <td>[CANADIAN WHISKIES]</td>\n",
       "      <td>[KUM &amp; GO #200 / AMES]</td>\n",
       "    </tr>\n",
       "  </tbody>\n",
       "</table>\n",
       "<p>5 rows × 23 columns</p>\n",
       "</div>"
      ],
      "text/plain": [
       "  invoice_and_item_number        date            address             city  \\\n",
       "0        RINV-04457500342  2023-01-11   1422 FLAMMANG DR         WATERLOO   \n",
       "1        RINV-04554900156  2023-03-16      555 S 51ST ST  WEST DES MOINES   \n",
       "2         INV-55652000072  2023-02-07       901 KELLY ST     CHARLES CITY   \n",
       "3         INV-56174000007  2023-02-24   505 BOYSON RD NE     CEDAR RAPIDS   \n",
       "4         INV-56518800030  2023-03-09  4510 MORTENSEN RD             AMES   \n",
       "\n",
       "              store_location      county item_number   item_description  pack  \\\n",
       "0  POINT(-92.32789 42.45998)  BLACK HAWK        5036     GLENLIVET 12YR    12   \n",
       "1  POINT(-93.77293 41.56036)        POLK       21538      STAGG BOURBON     6   \n",
       "2  POINT(-92.67553 43.06702)       FLOYD       11771  BLACK VELVET MINI     8   \n",
       "3  POINT(-91.63912 42.04672)        LINN       11771  BLACK VELVET MINI     8   \n",
       "4  POINT(-93.67956 42.01212)       STORY       11771  BLACK VELVET MINI     8   \n",
       "\n",
       "   bottle_volume_ml  ...  sale_dollars  volume_sold_liters  \\\n",
       "0               750  ...       -167.88               -3.00   \n",
       "1               750  ...        -39.00               -0.75   \n",
       "2                50  ...         12.75                0.05   \n",
       "3                50  ...         12.75                0.05   \n",
       "4                50  ...         13.31                0.05   \n",
       "\n",
       "   volume_sold_gallons    store_number         zip_code           category  \\\n",
       "0                -0.79  2538.000000000  50702.000000000  1012300.000000000   \n",
       "1                -0.19  2648.000000000  50265.000000000  1011200.000000000   \n",
       "2                 0.01  2578.000000000  50616.000000000  1012100.000000000   \n",
       "3                 0.01  2618.000000000  52402.000000000  1012100.000000000   \n",
       "4                 0.01  4428.000000000  50014.000000000  1012100.000000000   \n",
       "\n",
       "   vendor_number             vendor_name                category_name  \\\n",
       "0  370.000000000     [PERNOD RICARD USA]         [SINGLE MALT SCOTCH]   \n",
       "1  421.000000000  [SAZERAC COMPANY  INC]  [STRAIGHT BOURBON WHISKIES]   \n",
       "2  259.000000000    [HEAVEN HILL BRANDS]          [CANADIAN WHISKIES]   \n",
       "3  259.000000000    [HEAVEN HILL BRANDS]          [CANADIAN WHISKIES]   \n",
       "4  259.000000000    [HEAVEN HILL BRANDS]          [CANADIAN WHISKIES]   \n",
       "\n",
       "                                 store_name  \n",
       "0  [HY-VEE FOOD STORE #3 (1866) / WATERLOO]  \n",
       "1                         [HY-VEE #4 / WDM]  \n",
       "2                   [HY-VEE / CHARLES CITY]  \n",
       "3      [HY-VEE DRUGSTORE #6 / CEDAR RAPIDS]  \n",
       "4                    [KUM & GO #200 / AMES]  \n",
       "\n",
       "[5 rows x 23 columns]"
      ]
     },
     "execution_count": 4,
     "metadata": {},
     "output_type": "execute_result"
    }
   ],
   "source": [
    "client = bigquery.Client()\n",
    "\n",
    "# Create BigQuery Storage client\n",
    "bqstorage_client = bigquery_storage.BigQueryReadClient()\n",
    "\n",
    "query = \"\"\"\n",
    " with clean_data as (\n",
    "        select * EXCEPT (store_number, zip_code, category, vendor_number, county_number),\n",
    "        CAST(store_number AS NUMERIC) as store_number ,\n",
    "        CAST(zip_code AS NUMERIC) as zip_code ,\n",
    "        CAST(category AS NUMERIC) as category,\n",
    "        CAST(vendor_number AS NUMERIC) as vendor_number\n",
    "        from `bigquery-public-data.iowa_liquor_sales.sales`\n",
    "        where date <= '2023-03-31' and date >= '2023-01-01'\n",
    "        and CAST(vendor_number AS NUMERIC) in (260,421,65,370,85,434,35,301,259,115,395,55,420,205,380,192,297,300,255,389)\n",
    "        ORDER BY date ASC\n",
    "    ),\n",
    "    distinct_vendor as (\n",
    "        select\n",
    "            CAST(vendor_number AS NUMERIC) as vendor_number,\n",
    "            ARRAY_AGG(vendor_name ORDER BY date DESC LIMIT 1) as vendor_name\n",
    "        from `bigquery-public-data.iowa_liquor_sales.sales`\n",
    "        group by 1\n",
    "    ),\n",
    "    distinct_category as (\n",
    "        select\n",
    "            CAST(category AS NUMERIC) as category,\n",
    "            ARRAY_AGG(category_name ORDER BY date DESC LIMIT 1) as category_name\n",
    "        from `bigquery-public-data.iowa_liquor_sales.sales`\n",
    "        group by 1\n",
    "    ),\n",
    "    distinct_store as (\n",
    "        select\n",
    "            CAST(store_number AS NUMERIC) as store_number,\n",
    "            ARRAY_AGG(store_name ORDER BY date DESC LIMIT 1) as store_name\n",
    "        from `bigquery-public-data.iowa_liquor_sales.sales`\n",
    "        group by 1\n",
    "    )\n",
    "    select\n",
    "        cd.* EXCEPT (vendor_name, category_name, store_name),\n",
    "        dv.vendor_name,\n",
    "        dc.category_name,\n",
    "        ds.store_name\n",
    "    from clean_data cd\n",
    "    left join distinct_vendor dv on cd.vendor_number = dv.vendor_number\n",
    "    left join distinct_category dc on cd.category = dc.category\n",
    "    left join distinct_store ds on cd.store_number = ds.store_number\n",
    "\"\"\"\n",
    "\n",
    "# Fetch results using BigQuery Storage API\n",
    "df = client.query(query).to_dataframe(bqstorage_client=bqstorage_client)\n",
    "\n",
    "# Display results\n",
    "df.head()"
   ]
  },
  {
   "cell_type": "code",
   "execution_count": 9,
   "metadata": {},
   "outputs": [],
   "source": [
    "RAW_DATA_PATH=\"../../data/raw\""
   ]
  },
  {
   "cell_type": "code",
   "execution_count": null,
   "metadata": {},
   "outputs": [],
   "source": [
    "path_abs = Path(RAW_DATA_PATH).joinpath(\"data.csv\")"
   ]
  },
  {
   "cell_type": "code",
   "execution_count": 13,
   "metadata": {},
   "outputs": [
    {
     "data": {
      "text/plain": [
       "PosixPath('../../data/raw/data.csv')"
      ]
     },
     "execution_count": 13,
     "metadata": {},
     "output_type": "execute_result"
    }
   ],
   "source": [
    "path_abs"
   ]
  },
  {
   "cell_type": "code",
   "execution_count": null,
   "metadata": {},
   "outputs": [],
   "source": [
    "cache_path = /Users/davids./code/hilinski/liquor_demand_forecasting/data/raw"
   ]
  },
  {
   "cell_type": "code",
   "execution_count": 15,
   "metadata": {},
   "outputs": [
    {
     "ename": "OSError",
     "evalue": "Cannot save file into a non-existent directory: '../../data/raw'",
     "output_type": "error",
     "traceback": [
      "\u001b[0;31m---------------------------------------------------------------------------\u001b[0m",
      "\u001b[0;31mOSError\u001b[0m                                   Traceback (most recent call last)",
      "Cell \u001b[0;32mIn[15], line 1\u001b[0m\n\u001b[0;32m----> 1\u001b[0m \u001b[43mdf\u001b[49m\u001b[38;5;241;43m.\u001b[39;49m\u001b[43mto_csv\u001b[49m\u001b[43m(\u001b[49m\u001b[43mpath_abs\u001b[49m\u001b[43m,\u001b[49m\u001b[43m \u001b[49m\u001b[43mheader\u001b[49m\u001b[38;5;241;43m=\u001b[39;49m\u001b[38;5;28;43;01mTrue\u001b[39;49;00m\u001b[43m,\u001b[49m\u001b[43m \u001b[49m\u001b[43mindex\u001b[49m\u001b[38;5;241;43m=\u001b[39;49m\u001b[38;5;28;43;01mFalse\u001b[39;49;00m\u001b[43m)\u001b[49m\n",
      "File \u001b[0;32m~/.pyenv/versions/3.10.6/envs/liquor_demand_forecasting/lib/python3.10/site-packages/pandas/util/_decorators.py:333\u001b[0m, in \u001b[0;36mdeprecate_nonkeyword_arguments.<locals>.decorate.<locals>.wrapper\u001b[0;34m(*args, **kwargs)\u001b[0m\n\u001b[1;32m    327\u001b[0m \u001b[38;5;28;01mif\u001b[39;00m \u001b[38;5;28mlen\u001b[39m(args) \u001b[38;5;241m>\u001b[39m num_allow_args:\n\u001b[1;32m    328\u001b[0m     warnings\u001b[38;5;241m.\u001b[39mwarn(\n\u001b[1;32m    329\u001b[0m         msg\u001b[38;5;241m.\u001b[39mformat(arguments\u001b[38;5;241m=\u001b[39m_format_argument_list(allow_args)),\n\u001b[1;32m    330\u001b[0m         \u001b[38;5;167;01mFutureWarning\u001b[39;00m,\n\u001b[1;32m    331\u001b[0m         stacklevel\u001b[38;5;241m=\u001b[39mfind_stack_level(),\n\u001b[1;32m    332\u001b[0m     )\n\u001b[0;32m--> 333\u001b[0m \u001b[38;5;28;01mreturn\u001b[39;00m \u001b[43mfunc\u001b[49m\u001b[43m(\u001b[49m\u001b[38;5;241;43m*\u001b[39;49m\u001b[43margs\u001b[49m\u001b[43m,\u001b[49m\u001b[43m \u001b[49m\u001b[38;5;241;43m*\u001b[39;49m\u001b[38;5;241;43m*\u001b[39;49m\u001b[43mkwargs\u001b[49m\u001b[43m)\u001b[49m\n",
      "File \u001b[0;32m~/.pyenv/versions/3.10.6/envs/liquor_demand_forecasting/lib/python3.10/site-packages/pandas/core/generic.py:3967\u001b[0m, in \u001b[0;36mNDFrame.to_csv\u001b[0;34m(self, path_or_buf, sep, na_rep, float_format, columns, header, index, index_label, mode, encoding, compression, quoting, quotechar, lineterminator, chunksize, date_format, doublequote, escapechar, decimal, errors, storage_options)\u001b[0m\n\u001b[1;32m   3956\u001b[0m df \u001b[38;5;241m=\u001b[39m \u001b[38;5;28mself\u001b[39m \u001b[38;5;28;01mif\u001b[39;00m \u001b[38;5;28misinstance\u001b[39m(\u001b[38;5;28mself\u001b[39m, ABCDataFrame) \u001b[38;5;28;01melse\u001b[39;00m \u001b[38;5;28mself\u001b[39m\u001b[38;5;241m.\u001b[39mto_frame()\n\u001b[1;32m   3958\u001b[0m formatter \u001b[38;5;241m=\u001b[39m DataFrameFormatter(\n\u001b[1;32m   3959\u001b[0m     frame\u001b[38;5;241m=\u001b[39mdf,\n\u001b[1;32m   3960\u001b[0m     header\u001b[38;5;241m=\u001b[39mheader,\n\u001b[0;32m   (...)\u001b[0m\n\u001b[1;32m   3964\u001b[0m     decimal\u001b[38;5;241m=\u001b[39mdecimal,\n\u001b[1;32m   3965\u001b[0m )\n\u001b[0;32m-> 3967\u001b[0m \u001b[38;5;28;01mreturn\u001b[39;00m \u001b[43mDataFrameRenderer\u001b[49m\u001b[43m(\u001b[49m\u001b[43mformatter\u001b[49m\u001b[43m)\u001b[49m\u001b[38;5;241;43m.\u001b[39;49m\u001b[43mto_csv\u001b[49m\u001b[43m(\u001b[49m\n\u001b[1;32m   3968\u001b[0m \u001b[43m    \u001b[49m\u001b[43mpath_or_buf\u001b[49m\u001b[43m,\u001b[49m\n\u001b[1;32m   3969\u001b[0m \u001b[43m    \u001b[49m\u001b[43mlineterminator\u001b[49m\u001b[38;5;241;43m=\u001b[39;49m\u001b[43mlineterminator\u001b[49m\u001b[43m,\u001b[49m\n\u001b[1;32m   3970\u001b[0m \u001b[43m    \u001b[49m\u001b[43msep\u001b[49m\u001b[38;5;241;43m=\u001b[39;49m\u001b[43msep\u001b[49m\u001b[43m,\u001b[49m\n\u001b[1;32m   3971\u001b[0m \u001b[43m    \u001b[49m\u001b[43mencoding\u001b[49m\u001b[38;5;241;43m=\u001b[39;49m\u001b[43mencoding\u001b[49m\u001b[43m,\u001b[49m\n\u001b[1;32m   3972\u001b[0m \u001b[43m    \u001b[49m\u001b[43merrors\u001b[49m\u001b[38;5;241;43m=\u001b[39;49m\u001b[43merrors\u001b[49m\u001b[43m,\u001b[49m\n\u001b[1;32m   3973\u001b[0m \u001b[43m    \u001b[49m\u001b[43mcompression\u001b[49m\u001b[38;5;241;43m=\u001b[39;49m\u001b[43mcompression\u001b[49m\u001b[43m,\u001b[49m\n\u001b[1;32m   3974\u001b[0m \u001b[43m    \u001b[49m\u001b[43mquoting\u001b[49m\u001b[38;5;241;43m=\u001b[39;49m\u001b[43mquoting\u001b[49m\u001b[43m,\u001b[49m\n\u001b[1;32m   3975\u001b[0m \u001b[43m    \u001b[49m\u001b[43mcolumns\u001b[49m\u001b[38;5;241;43m=\u001b[39;49m\u001b[43mcolumns\u001b[49m\u001b[43m,\u001b[49m\n\u001b[1;32m   3976\u001b[0m \u001b[43m    \u001b[49m\u001b[43mindex_label\u001b[49m\u001b[38;5;241;43m=\u001b[39;49m\u001b[43mindex_label\u001b[49m\u001b[43m,\u001b[49m\n\u001b[1;32m   3977\u001b[0m \u001b[43m    \u001b[49m\u001b[43mmode\u001b[49m\u001b[38;5;241;43m=\u001b[39;49m\u001b[43mmode\u001b[49m\u001b[43m,\u001b[49m\n\u001b[1;32m   3978\u001b[0m \u001b[43m    \u001b[49m\u001b[43mchunksize\u001b[49m\u001b[38;5;241;43m=\u001b[39;49m\u001b[43mchunksize\u001b[49m\u001b[43m,\u001b[49m\n\u001b[1;32m   3979\u001b[0m \u001b[43m    \u001b[49m\u001b[43mquotechar\u001b[49m\u001b[38;5;241;43m=\u001b[39;49m\u001b[43mquotechar\u001b[49m\u001b[43m,\u001b[49m\n\u001b[1;32m   3980\u001b[0m \u001b[43m    \u001b[49m\u001b[43mdate_format\u001b[49m\u001b[38;5;241;43m=\u001b[39;49m\u001b[43mdate_format\u001b[49m\u001b[43m,\u001b[49m\n\u001b[1;32m   3981\u001b[0m \u001b[43m    \u001b[49m\u001b[43mdoublequote\u001b[49m\u001b[38;5;241;43m=\u001b[39;49m\u001b[43mdoublequote\u001b[49m\u001b[43m,\u001b[49m\n\u001b[1;32m   3982\u001b[0m \u001b[43m    \u001b[49m\u001b[43mescapechar\u001b[49m\u001b[38;5;241;43m=\u001b[39;49m\u001b[43mescapechar\u001b[49m\u001b[43m,\u001b[49m\n\u001b[1;32m   3983\u001b[0m \u001b[43m    \u001b[49m\u001b[43mstorage_options\u001b[49m\u001b[38;5;241;43m=\u001b[39;49m\u001b[43mstorage_options\u001b[49m\u001b[43m,\u001b[49m\n\u001b[1;32m   3984\u001b[0m \u001b[43m\u001b[49m\u001b[43m)\u001b[49m\n",
      "File \u001b[0;32m~/.pyenv/versions/3.10.6/envs/liquor_demand_forecasting/lib/python3.10/site-packages/pandas/io/formats/format.py:1014\u001b[0m, in \u001b[0;36mDataFrameRenderer.to_csv\u001b[0;34m(self, path_or_buf, encoding, sep, columns, index_label, mode, compression, quoting, quotechar, lineterminator, chunksize, date_format, doublequote, escapechar, errors, storage_options)\u001b[0m\n\u001b[1;32m    993\u001b[0m     created_buffer \u001b[38;5;241m=\u001b[39m \u001b[38;5;28;01mFalse\u001b[39;00m\n\u001b[1;32m    995\u001b[0m csv_formatter \u001b[38;5;241m=\u001b[39m CSVFormatter(\n\u001b[1;32m    996\u001b[0m     path_or_buf\u001b[38;5;241m=\u001b[39mpath_or_buf,\n\u001b[1;32m    997\u001b[0m     lineterminator\u001b[38;5;241m=\u001b[39mlineterminator,\n\u001b[0;32m   (...)\u001b[0m\n\u001b[1;32m   1012\u001b[0m     formatter\u001b[38;5;241m=\u001b[39m\u001b[38;5;28mself\u001b[39m\u001b[38;5;241m.\u001b[39mfmt,\n\u001b[1;32m   1013\u001b[0m )\n\u001b[0;32m-> 1014\u001b[0m \u001b[43mcsv_formatter\u001b[49m\u001b[38;5;241;43m.\u001b[39;49m\u001b[43msave\u001b[49m\u001b[43m(\u001b[49m\u001b[43m)\u001b[49m\n\u001b[1;32m   1016\u001b[0m \u001b[38;5;28;01mif\u001b[39;00m created_buffer:\n\u001b[1;32m   1017\u001b[0m     \u001b[38;5;28;01massert\u001b[39;00m \u001b[38;5;28misinstance\u001b[39m(path_or_buf, StringIO)\n",
      "File \u001b[0;32m~/.pyenv/versions/3.10.6/envs/liquor_demand_forecasting/lib/python3.10/site-packages/pandas/io/formats/csvs.py:251\u001b[0m, in \u001b[0;36mCSVFormatter.save\u001b[0;34m(self)\u001b[0m\n\u001b[1;32m    247\u001b[0m \u001b[38;5;250m\u001b[39m\u001b[38;5;124;03m\"\"\"\u001b[39;00m\n\u001b[1;32m    248\u001b[0m \u001b[38;5;124;03mCreate the writer & save.\u001b[39;00m\n\u001b[1;32m    249\u001b[0m \u001b[38;5;124;03m\"\"\"\u001b[39;00m\n\u001b[1;32m    250\u001b[0m \u001b[38;5;66;03m# apply compression and byte/text conversion\u001b[39;00m\n\u001b[0;32m--> 251\u001b[0m \u001b[38;5;28;01mwith\u001b[39;00m \u001b[43mget_handle\u001b[49m\u001b[43m(\u001b[49m\n\u001b[1;32m    252\u001b[0m \u001b[43m    \u001b[49m\u001b[38;5;28;43mself\u001b[39;49m\u001b[38;5;241;43m.\u001b[39;49m\u001b[43mfilepath_or_buffer\u001b[49m\u001b[43m,\u001b[49m\n\u001b[1;32m    253\u001b[0m \u001b[43m    \u001b[49m\u001b[38;5;28;43mself\u001b[39;49m\u001b[38;5;241;43m.\u001b[39;49m\u001b[43mmode\u001b[49m\u001b[43m,\u001b[49m\n\u001b[1;32m    254\u001b[0m \u001b[43m    \u001b[49m\u001b[43mencoding\u001b[49m\u001b[38;5;241;43m=\u001b[39;49m\u001b[38;5;28;43mself\u001b[39;49m\u001b[38;5;241;43m.\u001b[39;49m\u001b[43mencoding\u001b[49m\u001b[43m,\u001b[49m\n\u001b[1;32m    255\u001b[0m \u001b[43m    \u001b[49m\u001b[43merrors\u001b[49m\u001b[38;5;241;43m=\u001b[39;49m\u001b[38;5;28;43mself\u001b[39;49m\u001b[38;5;241;43m.\u001b[39;49m\u001b[43merrors\u001b[49m\u001b[43m,\u001b[49m\n\u001b[1;32m    256\u001b[0m \u001b[43m    \u001b[49m\u001b[43mcompression\u001b[49m\u001b[38;5;241;43m=\u001b[39;49m\u001b[38;5;28;43mself\u001b[39;49m\u001b[38;5;241;43m.\u001b[39;49m\u001b[43mcompression\u001b[49m\u001b[43m,\u001b[49m\n\u001b[1;32m    257\u001b[0m \u001b[43m    \u001b[49m\u001b[43mstorage_options\u001b[49m\u001b[38;5;241;43m=\u001b[39;49m\u001b[38;5;28;43mself\u001b[39;49m\u001b[38;5;241;43m.\u001b[39;49m\u001b[43mstorage_options\u001b[49m\u001b[43m,\u001b[49m\n\u001b[1;32m    258\u001b[0m \u001b[43m\u001b[49m\u001b[43m)\u001b[49m \u001b[38;5;28;01mas\u001b[39;00m handles:\n\u001b[1;32m    259\u001b[0m     \u001b[38;5;66;03m# Note: self.encoding is irrelevant here\u001b[39;00m\n\u001b[1;32m    260\u001b[0m     \u001b[38;5;28mself\u001b[39m\u001b[38;5;241m.\u001b[39mwriter \u001b[38;5;241m=\u001b[39m csvlib\u001b[38;5;241m.\u001b[39mwriter(\n\u001b[1;32m    261\u001b[0m         handles\u001b[38;5;241m.\u001b[39mhandle,\n\u001b[1;32m    262\u001b[0m         lineterminator\u001b[38;5;241m=\u001b[39m\u001b[38;5;28mself\u001b[39m\u001b[38;5;241m.\u001b[39mlineterminator,\n\u001b[0;32m   (...)\u001b[0m\n\u001b[1;32m    267\u001b[0m         quotechar\u001b[38;5;241m=\u001b[39m\u001b[38;5;28mself\u001b[39m\u001b[38;5;241m.\u001b[39mquotechar,\n\u001b[1;32m    268\u001b[0m     )\n\u001b[1;32m    270\u001b[0m     \u001b[38;5;28mself\u001b[39m\u001b[38;5;241m.\u001b[39m_save()\n",
      "File \u001b[0;32m~/.pyenv/versions/3.10.6/envs/liquor_demand_forecasting/lib/python3.10/site-packages/pandas/io/common.py:749\u001b[0m, in \u001b[0;36mget_handle\u001b[0;34m(path_or_buf, mode, encoding, compression, memory_map, is_text, errors, storage_options)\u001b[0m\n\u001b[1;32m    747\u001b[0m \u001b[38;5;66;03m# Only for write methods\u001b[39;00m\n\u001b[1;32m    748\u001b[0m \u001b[38;5;28;01mif\u001b[39;00m \u001b[38;5;124m\"\u001b[39m\u001b[38;5;124mr\u001b[39m\u001b[38;5;124m\"\u001b[39m \u001b[38;5;129;01mnot\u001b[39;00m \u001b[38;5;129;01min\u001b[39;00m mode \u001b[38;5;129;01mand\u001b[39;00m is_path:\n\u001b[0;32m--> 749\u001b[0m     \u001b[43mcheck_parent_directory\u001b[49m\u001b[43m(\u001b[49m\u001b[38;5;28;43mstr\u001b[39;49m\u001b[43m(\u001b[49m\u001b[43mhandle\u001b[49m\u001b[43m)\u001b[49m\u001b[43m)\u001b[49m\n\u001b[1;32m    751\u001b[0m \u001b[38;5;28;01mif\u001b[39;00m compression:\n\u001b[1;32m    752\u001b[0m     \u001b[38;5;28;01mif\u001b[39;00m compression \u001b[38;5;241m!=\u001b[39m \u001b[38;5;124m\"\u001b[39m\u001b[38;5;124mzstd\u001b[39m\u001b[38;5;124m\"\u001b[39m:\n\u001b[1;32m    753\u001b[0m         \u001b[38;5;66;03m# compression libraries do not like an explicit text-mode\u001b[39;00m\n",
      "File \u001b[0;32m~/.pyenv/versions/3.10.6/envs/liquor_demand_forecasting/lib/python3.10/site-packages/pandas/io/common.py:616\u001b[0m, in \u001b[0;36mcheck_parent_directory\u001b[0;34m(path)\u001b[0m\n\u001b[1;32m    614\u001b[0m parent \u001b[38;5;241m=\u001b[39m Path(path)\u001b[38;5;241m.\u001b[39mparent\n\u001b[1;32m    615\u001b[0m \u001b[38;5;28;01mif\u001b[39;00m \u001b[38;5;129;01mnot\u001b[39;00m parent\u001b[38;5;241m.\u001b[39mis_dir():\n\u001b[0;32m--> 616\u001b[0m     \u001b[38;5;28;01mraise\u001b[39;00m \u001b[38;5;167;01mOSError\u001b[39;00m(\u001b[38;5;124mrf\u001b[39m\u001b[38;5;124m\"\u001b[39m\u001b[38;5;124mCannot save file into a non-existent directory: \u001b[39m\u001b[38;5;124m'\u001b[39m\u001b[38;5;132;01m{\u001b[39;00mparent\u001b[38;5;132;01m}\u001b[39;00m\u001b[38;5;124m'\u001b[39m\u001b[38;5;124m\"\u001b[39m)\n",
      "\u001b[0;31mOSError\u001b[0m: Cannot save file into a non-existent directory: '../../data/raw'"
     ]
    }
   ],
   "source": [
    "df.to_csv(path_abs, header=True, index=False)"
   ]
  },
  {
   "cell_type": "code",
   "execution_count": 81,
   "metadata": {},
   "outputs": [
    {
     "data": {
      "text/plain": [
       "(2468902, 24)"
      ]
     },
     "execution_count": 81,
     "metadata": {},
     "output_type": "execute_result"
    }
   ],
   "source": [
    "df.shape"
   ]
  },
  {
   "cell_type": "code",
   "execution_count": 82,
   "metadata": {},
   "outputs": [
    {
     "data": {
      "text/plain": [
       "Index(['invoice_and_item_number', 'date', 'store_number', 'store_name',\n",
       "       'address', 'city', 'zip_code', 'store_location', 'county_number',\n",
       "       'county', 'category', 'category_name', 'vendor_number', 'vendor_name',\n",
       "       'item_number', 'item_description', 'pack', 'bottle_volume_ml',\n",
       "       'state_bottle_cost', 'state_bottle_retail', 'bottles_sold',\n",
       "       'sale_dollars', 'volume_sold_liters', 'volume_sold_gallons'],\n",
       "      dtype='object')"
      ]
     },
     "execution_count": 82,
     "metadata": {},
     "output_type": "execute_result"
    }
   ],
   "source": [
    "df.columns"
   ]
  },
  {
   "cell_type": "code",
   "execution_count": 83,
   "metadata": {},
   "outputs": [
    {
     "data": {
      "text/plain": [
       "county_number              1.000000\n",
       "store_location             0.006283\n",
       "address                    0.000396\n",
       "city                       0.000396\n",
       "zip_code                   0.000396\n",
       "county                     0.000396\n",
       "invoice_and_item_number    0.000000\n",
       "item_description           0.000000\n",
       "volume_sold_liters         0.000000\n",
       "sale_dollars               0.000000\n",
       "bottles_sold               0.000000\n",
       "state_bottle_retail        0.000000\n",
       "state_bottle_cost          0.000000\n",
       "bottle_volume_ml           0.000000\n",
       "pack                       0.000000\n",
       "vendor_number              0.000000\n",
       "item_number                0.000000\n",
       "vendor_name                0.000000\n",
       "date                       0.000000\n",
       "category_name              0.000000\n",
       "category                   0.000000\n",
       "store_name                 0.000000\n",
       "store_number               0.000000\n",
       "volume_sold_gallons        0.000000\n",
       "dtype: float64"
      ]
     },
     "execution_count": 83,
     "metadata": {},
     "output_type": "execute_result"
    }
   ],
   "source": [
    "# Counting the percentage of NaN for each column\n",
    "df.isnull().sum().sort_values(ascending=False) / len(df) #NaN percentage for each column"
   ]
  },
  {
   "cell_type": "code",
   "execution_count": null,
   "metadata": {},
   "outputs": [],
   "source": [
    "df = df.drop('county_number', axis=1)\n",
    "df = df.dropna(subset=['store_location','address','city','zip_code','county'])"
   ]
  },
  {
   "cell_type": "code",
   "execution_count": 85,
   "metadata": {},
   "outputs": [
    {
     "data": {
      "text/plain": [
       "(2453391, 23)"
      ]
     },
     "execution_count": 85,
     "metadata": {},
     "output_type": "execute_result"
    }
   ],
   "source": [
    "df.shape"
   ]
  },
  {
   "cell_type": "code",
   "execution_count": 86,
   "metadata": {},
   "outputs": [
    {
     "name": "stdout",
     "output_type": "stream",
     "text": [
      "<class 'pandas.core.frame.DataFrame'>\n",
      "Index: 2453391 entries, 0 to 2468901\n",
      "Data columns (total 23 columns):\n",
      " #   Column                   Dtype  \n",
      "---  ------                   -----  \n",
      " 0   invoice_and_item_number  object \n",
      " 1   date                     dbdate \n",
      " 2   store_number             object \n",
      " 3   store_name               object \n",
      " 4   address                  object \n",
      " 5   city                     object \n",
      " 6   zip_code                 object \n",
      " 7   store_location           object \n",
      " 8   county                   object \n",
      " 9   category                 object \n",
      " 10  category_name            object \n",
      " 11  vendor_number            object \n",
      " 12  vendor_name              object \n",
      " 13  item_number              object \n",
      " 14  item_description         object \n",
      " 15  pack                     Int64  \n",
      " 16  bottle_volume_ml         Int64  \n",
      " 17  state_bottle_cost        float64\n",
      " 18  state_bottle_retail      float64\n",
      " 19  bottles_sold             Int64  \n",
      " 20  sale_dollars             float64\n",
      " 21  volume_sold_liters       float64\n",
      " 22  volume_sold_gallons      float64\n",
      "dtypes: Int64(3), dbdate(1), float64(5), object(14)\n",
      "memory usage: 456.2+ MB\n"
     ]
    }
   ],
   "source": [
    "df.info()"
   ]
  },
  {
   "cell_type": "markdown",
   "metadata": {},
   "source": [
    "##"
   ]
  },
  {
   "cell_type": "markdown",
   "metadata": {},
   "source": [
    "## Encoding Categorical values"
   ]
  },
  {
   "cell_type": "code",
   "execution_count": 87,
   "metadata": {},
   "outputs": [
    {
     "name": "stdout",
     "output_type": "stream",
     "text": [
      "Index(['invoice_and_item_number', 'store_number', 'store_name', 'address',\n",
      "       'city', 'zip_code', 'store_location', 'county', 'category',\n",
      "       'category_name', 'vendor_number', 'vendor_name', 'item_number',\n",
      "       'item_description'],\n",
      "      dtype='object')\n"
     ]
    }
   ],
   "source": [
    "object_columns = df.select_dtypes(include=['object']).columns\n",
    "print(object_columns)"
   ]
  },
  {
   "cell_type": "code",
   "execution_count": null,
   "metadata": {},
   "outputs": [],
   "source": [
    "df_object = df.select_dtypes(include=['object'])"
   ]
  },
  {
   "cell_type": "code",
   "execution_count": 95,
   "metadata": {},
   "outputs": [
    {
     "data": {
      "text/plain": [
       "(2453391, 3)"
      ]
     },
     "execution_count": 95,
     "metadata": {},
     "output_type": "execute_result"
    }
   ],
   "source": [
    "df_object.shape"
   ]
  },
  {
   "cell_type": "code",
   "execution_count": null,
   "metadata": {},
   "outputs": [],
   "source": [
    "df_object = df_object[['county', 'category_name','vendor_name']]"
   ]
  },
  {
   "cell_type": "code",
   "execution_count": 96,
   "metadata": {},
   "outputs": [
    {
     "data": {
      "text/plain": [
       "Index(['county', 'category_name', 'vendor_name'], dtype='object')"
      ]
     },
     "execution_count": 96,
     "metadata": {},
     "output_type": "execute_result"
    }
   ],
   "source": [
    "df_object.columns"
   ]
  },
  {
   "cell_type": "code",
   "execution_count": 97,
   "metadata": {},
   "outputs": [
    {
     "data": {
      "text/plain": [
       "(2453391, 3)"
      ]
     },
     "execution_count": 97,
     "metadata": {},
     "output_type": "execute_result"
    }
   ],
   "source": [
    "df_object.shape"
   ]
  },
  {
   "cell_type": "code",
   "execution_count": null,
   "metadata": {},
   "outputs": [
    {
     "data": {
      "text/plain": [
       "99"
      ]
     },
     "execution_count": 98,
     "metadata": {},
     "output_type": "execute_result"
    }
   ],
   "source": [
    "df_object.county.nunique()"
   ]
  },
  {
   "cell_type": "code",
   "execution_count": 99,
   "metadata": {},
   "outputs": [
    {
     "data": {
      "text/plain": [
       "43"
      ]
     },
     "execution_count": 99,
     "metadata": {},
     "output_type": "execute_result"
    }
   ],
   "source": [
    "df_object.category_name.nunique()"
   ]
  },
  {
   "cell_type": "code",
   "execution_count": 100,
   "metadata": {},
   "outputs": [
    {
     "data": {
      "text/plain": [
       "19"
      ]
     },
     "execution_count": 100,
     "metadata": {},
     "output_type": "execute_result"
    }
   ],
   "source": [
    "df_object.vendor_name.nunique()"
   ]
  },
  {
   "cell_type": "code",
   "execution_count": null,
   "metadata": {},
   "outputs": [
    {
     "name": "stdout",
     "output_type": "stream",
     "text": [
      "The unique values for column country are ['DUBUQUE' 'POLK' 'WOODBURY' 'JOHNSON' 'LINN' 'MARION' 'MUSCATINE' 'JONES'\n",
      " 'STORY' 'HOWARD' 'BOONE' 'FAYETTE' 'BLACK HAWK' 'MARSHALL' 'DALLAS'\n",
      " 'POTTAWATTAMIE' 'UNION' 'ADAIR' 'WARREN' 'FLOYD' \"O'BRIEN\" 'CEDAR'\n",
      " 'MILLS' 'CLINTON' 'DES MOINES' 'SCOTT' 'IOWA' 'DELAWARE' 'WRIGHT'\n",
      " 'CHICKASAW' 'BENTON' 'WEBSTER' 'LEE' 'CERRO GORDO' 'WASHINGTON' 'KOSSUTH'\n",
      " 'WAPELLO' 'WINNEBAGO' 'DICKINSON' 'JASPER' 'CARROLL' 'LYON' 'ALLAMAKEE'\n",
      " 'PAGE' 'BREMER' 'DECATUR' 'MAHASKA' 'MONONA' 'PLYMOUTH' 'BUENA VISTA'\n",
      " 'PALO ALTO' 'APPANOOSE' 'HUMBOLDT' 'HARRISON' 'SAC' 'ADAMS' 'CLARKE'\n",
      " 'JEFFERSON' 'POCAHONTAS' 'POWESHIEK' 'VAN BUREN' 'CASS' 'BUTLER' 'CLAY'\n",
      " 'FREMONT' 'HENRY' 'WINNESHIEK' 'CHEROKEE' 'HAMILTON' 'IDA' 'LUCAS'\n",
      " 'JACKSON' 'CRAWFORD' 'WAYNE' 'GUTHRIE' 'SHELBY' 'MADISON' 'EMMET' 'SIOUX'\n",
      " 'TAMA' 'MITCHELL' 'GREENE' 'GRUNDY' 'HARDIN' 'TAYLOR' 'WORTH' 'BUCHANAN'\n",
      " 'LOUISA' 'OSCEOLA' 'MONTGOMERY' 'CLAYTON' 'MONROE' 'KEOKUK' 'CALHOUN'\n",
      " 'HANCOCK' 'AUDUBON' 'RINGGOLD' 'FRANKLIN' 'DAVIS']\n",
      "The unique values for column category_name are ['100% AGAVE TEQUILA' 'CANADIAN WHISKIES' 'IRISH WHISKIES'\n",
      " 'STRAIGHT BOURBON WHISKIES' 'IMPORTED VODKAS' 'AMERICAN VODKAS'\n",
      " 'AMERICAN FLAVORED VODKA' 'FLAVORED RUM' 'IMPORTED CORDIALS & LIQUEURS'\n",
      " 'CREAM LIQUEURS' 'MIXTO TEQUILA' 'WHITE RUM' 'AMERICAN BRANDIES'\n",
      " 'AMERICAN SCHNAPPS' 'IMPORTED BRANDIES' 'WHISKEY LIQUEUR'\n",
      " 'TEMPORARY & SPECIALTY PACKAGES' 'STRAIGHT RYE WHISKIES'\n",
      " 'SINGLE BARREL BOURBON WHISKIES' 'AMERICAN DRY GINS' 'AGED DARK RUM'\n",
      " 'SCOTCH WHISKIES' 'IMPORTED SCHNAPPS' 'AMERICAN CORDIALS & LIQUEURS'\n",
      " 'BLENDED WHISKIES' 'SINGLE MALT SCOTCH' 'COCKTAILS/RTD'\n",
      " 'IMPORTED DRY GINS' 'IMPORTED FLAVORED VODKA' 'SPICED RUM'\n",
      " 'SPECIAL ORDER ITEMS' 'TENNESSEE WHISKIES' 'FLAVORED GIN'\n",
      " 'NEUTRAL GRAIN SPIRITS' 'AMERICAN SLOE GINS' 'COFFEE LIQUEURS'\n",
      " 'TRIPLE SEC' 'GOLD RUM' 'MEZCAL' 'AMERICAN DISTILLED SPIRITS SPECIALTY'\n",
      " 'BOTTLED IN BOND BOURBON' 'IMPORTED DISTILLED SPIRITS SPECIALTY'\n",
      " 'CORN WHISKIES']\n",
      "The unique values for column vendor_name are ['PROXIMO' 'HEAVEN HILL BRANDS' 'PERNOD RICARD USA' 'JIM BEAM BRANDS'\n",
      " 'BACARDI USA INC' 'E & J GALLO WINERY' 'FIFTH GENERATION INC'\n",
      " 'DIAGEO AMERICAS' 'SAZERAC COMPANY  INC' 'MAST-JAGERMEISTER US, INC'\n",
      " 'LUXCO INC' 'MOET HENNESSY USA' 'MCCORMICK DISTILLING CO.'\n",
      " 'PHILLIPS BEVERAGE' 'BROWN FORMAN CORP.' 'INFINIUM SPIRITS'\n",
      " 'LAIRD & COMPANY' 'CONSTELLATION BRANDS INC' 'REMY COINTREAU USA INC']\n",
      "The categories detected by the OneHotEncoder are [array(['ADAIR', 'ADAMS', 'ALLAMAKEE', 'APPANOOSE', 'AUDUBON', 'BENTON',\n",
      "       'BLACK HAWK', 'BOONE', 'BREMER', 'BUCHANAN', 'BUENA VISTA',\n",
      "       'BUTLER', 'CALHOUN', 'CARROLL', 'CASS', 'CEDAR', 'CERRO GORDO',\n",
      "       'CHEROKEE', 'CHICKASAW', 'CLARKE', 'CLAY', 'CLAYTON', 'CLINTON',\n",
      "       'CRAWFORD', 'DALLAS', 'DAVIS', 'DECATUR', 'DELAWARE', 'DES MOINES',\n",
      "       'DICKINSON', 'DUBUQUE', 'EMMET', 'FAYETTE', 'FLOYD', 'FRANKLIN',\n",
      "       'FREMONT', 'GREENE', 'GRUNDY', 'GUTHRIE', 'HAMILTON', 'HANCOCK',\n",
      "       'HARDIN', 'HARRISON', 'HENRY', 'HOWARD', 'HUMBOLDT', 'IDA', 'IOWA',\n",
      "       'JACKSON', 'JASPER', 'JEFFERSON', 'JOHNSON', 'JONES', 'KEOKUK',\n",
      "       'KOSSUTH', 'LEE', 'LINN', 'LOUISA', 'LUCAS', 'LYON', 'MADISON',\n",
      "       'MAHASKA', 'MARION', 'MARSHALL', 'MILLS', 'MITCHELL', 'MONONA',\n",
      "       'MONROE', 'MONTGOMERY', 'MUSCATINE', \"O'BRIEN\", 'OSCEOLA', 'PAGE',\n",
      "       'PALO ALTO', 'PLYMOUTH', 'POCAHONTAS', 'POLK', 'POTTAWATTAMIE',\n",
      "       'POWESHIEK', 'RINGGOLD', 'SAC', 'SCOTT', 'SHELBY', 'SIOUX',\n",
      "       'STORY', 'TAMA', 'TAYLOR', 'UNION', 'VAN BUREN', 'WAPELLO',\n",
      "       'WARREN', 'WASHINGTON', 'WAYNE', 'WEBSTER', 'WINNEBAGO',\n",
      "       'WINNESHIEK', 'WOODBURY', 'WORTH', 'WRIGHT'], dtype=object), array(['100% AGAVE TEQUILA', 'AGED DARK RUM', 'AMERICAN BRANDIES',\n",
      "       'AMERICAN CORDIALS & LIQUEURS',\n",
      "       'AMERICAN DISTILLED SPIRITS SPECIALTY', 'AMERICAN DRY GINS',\n",
      "       'AMERICAN FLAVORED VODKA', 'AMERICAN SCHNAPPS',\n",
      "       'AMERICAN SLOE GINS', 'AMERICAN VODKAS', 'BLENDED WHISKIES',\n",
      "       'BOTTLED IN BOND BOURBON', 'CANADIAN WHISKIES', 'COCKTAILS/RTD',\n",
      "       'COFFEE LIQUEURS', 'CORN WHISKIES', 'CREAM LIQUEURS',\n",
      "       'FLAVORED GIN', 'FLAVORED RUM', 'GOLD RUM', 'IMPORTED BRANDIES',\n",
      "       'IMPORTED CORDIALS & LIQUEURS',\n",
      "       'IMPORTED DISTILLED SPIRITS SPECIALTY', 'IMPORTED DRY GINS',\n",
      "       'IMPORTED FLAVORED VODKA', 'IMPORTED SCHNAPPS', 'IMPORTED VODKAS',\n",
      "       'IRISH WHISKIES', 'MEZCAL', 'MIXTO TEQUILA',\n",
      "       'NEUTRAL GRAIN SPIRITS', 'SCOTCH WHISKIES',\n",
      "       'SINGLE BARREL BOURBON WHISKIES', 'SINGLE MALT SCOTCH',\n",
      "       'SPECIAL ORDER ITEMS', 'SPICED RUM', 'STRAIGHT BOURBON WHISKIES',\n",
      "       'STRAIGHT RYE WHISKIES', 'TEMPORARY & SPECIALTY PACKAGES',\n",
      "       'TENNESSEE WHISKIES', 'TRIPLE SEC', 'WHISKEY LIQUEUR', 'WHITE RUM'],\n",
      "      dtype=object), array(['BACARDI USA INC', 'BROWN FORMAN CORP.',\n",
      "       'CONSTELLATION BRANDS INC', 'DIAGEO AMERICAS',\n",
      "       'E & J GALLO WINERY', 'FIFTH GENERATION INC', 'HEAVEN HILL BRANDS',\n",
      "       'INFINIUM SPIRITS', 'JIM BEAM BRANDS', 'LAIRD & COMPANY',\n",
      "       'LUXCO INC', 'MAST-JAGERMEISTER US, INC',\n",
      "       'MCCORMICK DISTILLING CO.', 'MOET HENNESSY USA',\n",
      "       'PERNOD RICARD USA', 'PHILLIPS BEVERAGE', 'PROXIMO',\n",
      "       'REMY COINTREAU USA INC', 'SAZERAC COMPANY  INC'], dtype=object)]\n",
      "The column names for the encoded values are ['county_ADAIR' 'county_ADAMS' 'county_ALLAMAKEE' 'county_APPANOOSE'\n",
      " 'county_AUDUBON' 'county_BENTON' 'county_BLACK HAWK' 'county_BOONE'\n",
      " 'county_BREMER' 'county_BUCHANAN' 'county_BUENA VISTA' 'county_BUTLER'\n",
      " 'county_CALHOUN' 'county_CARROLL' 'county_CASS' 'county_CEDAR'\n",
      " 'county_CERRO GORDO' 'county_CHEROKEE' 'county_CHICKASAW' 'county_CLARKE'\n",
      " 'county_CLAY' 'county_CLAYTON' 'county_CLINTON' 'county_CRAWFORD'\n",
      " 'county_DALLAS' 'county_DAVIS' 'county_DECATUR' 'county_DELAWARE'\n",
      " 'county_DES MOINES' 'county_DICKINSON' 'county_DUBUQUE' 'county_EMMET'\n",
      " 'county_FAYETTE' 'county_FLOYD' 'county_FRANKLIN' 'county_FREMONT'\n",
      " 'county_GREENE' 'county_GRUNDY' 'county_GUTHRIE' 'county_HAMILTON'\n",
      " 'county_HANCOCK' 'county_HARDIN' 'county_HARRISON' 'county_HENRY'\n",
      " 'county_HOWARD' 'county_HUMBOLDT' 'county_IDA' 'county_IOWA'\n",
      " 'county_JACKSON' 'county_JASPER' 'county_JEFFERSON' 'county_JOHNSON'\n",
      " 'county_JONES' 'county_KEOKUK' 'county_KOSSUTH' 'county_LEE'\n",
      " 'county_LINN' 'county_LOUISA' 'county_LUCAS' 'county_LYON'\n",
      " 'county_MADISON' 'county_MAHASKA' 'county_MARION' 'county_MARSHALL'\n",
      " 'county_MILLS' 'county_MITCHELL' 'county_MONONA' 'county_MONROE'\n",
      " 'county_MONTGOMERY' 'county_MUSCATINE' \"county_O'BRIEN\" 'county_OSCEOLA'\n",
      " 'county_PAGE' 'county_PALO ALTO' 'county_PLYMOUTH' 'county_POCAHONTAS'\n",
      " 'county_POLK' 'county_POTTAWATTAMIE' 'county_POWESHIEK' 'county_RINGGOLD'\n",
      " 'county_SAC' 'county_SCOTT' 'county_SHELBY' 'county_SIOUX' 'county_STORY'\n",
      " 'county_TAMA' 'county_TAYLOR' 'county_UNION' 'county_VAN BUREN'\n",
      " 'county_WAPELLO' 'county_WARREN' 'county_WASHINGTON' 'county_WAYNE'\n",
      " 'county_WEBSTER' 'county_WINNEBAGO' 'county_WINNESHIEK' 'county_WOODBURY'\n",
      " 'county_WORTH' 'county_WRIGHT' 'category_name_100% AGAVE TEQUILA'\n",
      " 'category_name_AGED DARK RUM' 'category_name_AMERICAN BRANDIES'\n",
      " 'category_name_AMERICAN CORDIALS & LIQUEURS'\n",
      " 'category_name_AMERICAN DISTILLED SPIRITS SPECIALTY'\n",
      " 'category_name_AMERICAN DRY GINS' 'category_name_AMERICAN FLAVORED VODKA'\n",
      " 'category_name_AMERICAN SCHNAPPS' 'category_name_AMERICAN SLOE GINS'\n",
      " 'category_name_AMERICAN VODKAS' 'category_name_BLENDED WHISKIES'\n",
      " 'category_name_BOTTLED IN BOND BOURBON' 'category_name_CANADIAN WHISKIES'\n",
      " 'category_name_COCKTAILS/RTD' 'category_name_COFFEE LIQUEURS'\n",
      " 'category_name_CORN WHISKIES' 'category_name_CREAM LIQUEURS'\n",
      " 'category_name_FLAVORED GIN' 'category_name_FLAVORED RUM'\n",
      " 'category_name_GOLD RUM' 'category_name_IMPORTED BRANDIES'\n",
      " 'category_name_IMPORTED CORDIALS & LIQUEURS'\n",
      " 'category_name_IMPORTED DISTILLED SPIRITS SPECIALTY'\n",
      " 'category_name_IMPORTED DRY GINS' 'category_name_IMPORTED FLAVORED VODKA'\n",
      " 'category_name_IMPORTED SCHNAPPS' 'category_name_IMPORTED VODKAS'\n",
      " 'category_name_IRISH WHISKIES' 'category_name_MEZCAL'\n",
      " 'category_name_MIXTO TEQUILA' 'category_name_NEUTRAL GRAIN SPIRITS'\n",
      " 'category_name_SCOTCH WHISKIES'\n",
      " 'category_name_SINGLE BARREL BOURBON WHISKIES'\n",
      " 'category_name_SINGLE MALT SCOTCH' 'category_name_SPECIAL ORDER ITEMS'\n",
      " 'category_name_SPICED RUM' 'category_name_STRAIGHT BOURBON WHISKIES'\n",
      " 'category_name_STRAIGHT RYE WHISKIES'\n",
      " 'category_name_TEMPORARY & SPECIALTY PACKAGES'\n",
      " 'category_name_TENNESSEE WHISKIES' 'category_name_TRIPLE SEC'\n",
      " 'category_name_WHISKEY LIQUEUR' 'category_name_WHITE RUM'\n",
      " 'vendor_name_BACARDI USA INC' 'vendor_name_BROWN FORMAN CORP.'\n",
      " 'vendor_name_CONSTELLATION BRANDS INC' 'vendor_name_DIAGEO AMERICAS'\n",
      " 'vendor_name_E & J GALLO WINERY' 'vendor_name_FIFTH GENERATION INC'\n",
      " 'vendor_name_HEAVEN HILL BRANDS' 'vendor_name_INFINIUM SPIRITS'\n",
      " 'vendor_name_JIM BEAM BRANDS' 'vendor_name_LAIRD & COMPANY'\n",
      " 'vendor_name_LUXCO INC' 'vendor_name_MAST-JAGERMEISTER US, INC'\n",
      " 'vendor_name_MCCORMICK DISTILLING CO.' 'vendor_name_MOET HENNESSY USA'\n",
      " 'vendor_name_PERNOD RICARD USA' 'vendor_name_PHILLIPS BEVERAGE'\n",
      " 'vendor_name_PROXIMO' 'vendor_name_REMY COINTREAU USA INC'\n",
      " 'vendor_name_SAZERAC COMPANY  INC']\n"
     ]
    }
   ],
   "source": [
    "# Check unique values for column (3)\n",
    "print(f\"The unique values for column country are {df_object.county.unique()}\")\n",
    "print(f\"The unique values for column category_name are {df_object.category_name.unique()}\")\n",
    "print(f\"The unique values for column vendor_name are {df_object.vendor_name.unique()}\")\n",
    "\n",
    "# Instantiate the OneHotEncoder\n",
    "ohe = OneHotEncoder(sparse_output = False)\n",
    "\n",
    "# Fit encoder\n",
    "ohe.fit(df_object)\n",
    "\n",
    "# Display the detected categories\n",
    "print(f\"The categories detected by the OneHotEncoder are {ohe.categories_}\")\n",
    "\n",
    "# Display the generated names\n",
    "print(f\"The column names for the encoded values are {ohe.get_feature_names_out()}\")\n",
    "\n",
    "# Transform the columns county, category_name, vendor_name\n",
    "df_object[ohe.get_feature_names_out()] = ohe.transform(df_object)\n",
    "\n",
    "# Drop the columns which has been encoded\n",
    "df_object = df_object.drop(columns = ['county', 'category_name', 'vendor_name'])\n",
    "\n",
    "# Show the dataset\n",
    "df_object.head(3)\n"
   ]
  },
  {
   "cell_type": "code",
   "execution_count": null,
   "metadata": {},
   "outputs": [
    {
     "data": {
      "text/html": [
       "<div>\n",
       "<style scoped>\n",
       "    .dataframe tbody tr th:only-of-type {\n",
       "        vertical-align: middle;\n",
       "    }\n",
       "\n",
       "    .dataframe tbody tr th {\n",
       "        vertical-align: top;\n",
       "    }\n",
       "\n",
       "    .dataframe thead th {\n",
       "        text-align: right;\n",
       "    }\n",
       "</style>\n",
       "<table border=\"1\" class=\"dataframe\">\n",
       "  <thead>\n",
       "    <tr style=\"text-align: right;\">\n",
       "      <th></th>\n",
       "      <th>county_ADAIR</th>\n",
       "      <th>county_ADAMS</th>\n",
       "      <th>county_ALLAMAKEE</th>\n",
       "      <th>county_APPANOOSE</th>\n",
       "      <th>county_AUDUBON</th>\n",
       "      <th>county_BENTON</th>\n",
       "      <th>county_BLACK HAWK</th>\n",
       "      <th>county_BOONE</th>\n",
       "      <th>county_BREMER</th>\n",
       "      <th>county_BUCHANAN</th>\n",
       "      <th>...</th>\n",
       "      <th>vendor_name_LAIRD &amp; COMPANY</th>\n",
       "      <th>vendor_name_LUXCO INC</th>\n",
       "      <th>vendor_name_MAST-JAGERMEISTER US, INC</th>\n",
       "      <th>vendor_name_MCCORMICK DISTILLING CO.</th>\n",
       "      <th>vendor_name_MOET HENNESSY USA</th>\n",
       "      <th>vendor_name_PERNOD RICARD USA</th>\n",
       "      <th>vendor_name_PHILLIPS BEVERAGE</th>\n",
       "      <th>vendor_name_PROXIMO</th>\n",
       "      <th>vendor_name_REMY COINTREAU USA INC</th>\n",
       "      <th>vendor_name_SAZERAC COMPANY  INC</th>\n",
       "    </tr>\n",
       "  </thead>\n",
       "  <tbody>\n",
       "    <tr>\n",
       "      <th>0</th>\n",
       "      <td>0.0</td>\n",
       "      <td>0.0</td>\n",
       "      <td>0.0</td>\n",
       "      <td>0.0</td>\n",
       "      <td>0.0</td>\n",
       "      <td>0.0</td>\n",
       "      <td>0.0</td>\n",
       "      <td>0.0</td>\n",
       "      <td>0.0</td>\n",
       "      <td>0.0</td>\n",
       "      <td>...</td>\n",
       "      <td>0.0</td>\n",
       "      <td>0.0</td>\n",
       "      <td>0.0</td>\n",
       "      <td>0.0</td>\n",
       "      <td>0.0</td>\n",
       "      <td>0.0</td>\n",
       "      <td>0.0</td>\n",
       "      <td>1.0</td>\n",
       "      <td>0.0</td>\n",
       "      <td>0.0</td>\n",
       "    </tr>\n",
       "    <tr>\n",
       "      <th>1</th>\n",
       "      <td>0.0</td>\n",
       "      <td>0.0</td>\n",
       "      <td>0.0</td>\n",
       "      <td>0.0</td>\n",
       "      <td>0.0</td>\n",
       "      <td>0.0</td>\n",
       "      <td>0.0</td>\n",
       "      <td>0.0</td>\n",
       "      <td>0.0</td>\n",
       "      <td>0.0</td>\n",
       "      <td>...</td>\n",
       "      <td>0.0</td>\n",
       "      <td>0.0</td>\n",
       "      <td>0.0</td>\n",
       "      <td>0.0</td>\n",
       "      <td>0.0</td>\n",
       "      <td>0.0</td>\n",
       "      <td>0.0</td>\n",
       "      <td>0.0</td>\n",
       "      <td>0.0</td>\n",
       "      <td>0.0</td>\n",
       "    </tr>\n",
       "    <tr>\n",
       "      <th>2</th>\n",
       "      <td>0.0</td>\n",
       "      <td>0.0</td>\n",
       "      <td>0.0</td>\n",
       "      <td>0.0</td>\n",
       "      <td>0.0</td>\n",
       "      <td>0.0</td>\n",
       "      <td>0.0</td>\n",
       "      <td>0.0</td>\n",
       "      <td>0.0</td>\n",
       "      <td>0.0</td>\n",
       "      <td>...</td>\n",
       "      <td>0.0</td>\n",
       "      <td>0.0</td>\n",
       "      <td>0.0</td>\n",
       "      <td>0.0</td>\n",
       "      <td>0.0</td>\n",
       "      <td>1.0</td>\n",
       "      <td>0.0</td>\n",
       "      <td>0.0</td>\n",
       "      <td>0.0</td>\n",
       "      <td>0.0</td>\n",
       "    </tr>\n",
       "  </tbody>\n",
       "</table>\n",
       "<p>3 rows × 161 columns</p>\n",
       "</div>"
      ],
      "text/plain": [
       "   county_ADAIR  county_ADAMS  county_ALLAMAKEE  county_APPANOOSE  \\\n",
       "0           0.0           0.0               0.0               0.0   \n",
       "1           0.0           0.0               0.0               0.0   \n",
       "2           0.0           0.0               0.0               0.0   \n",
       "\n",
       "   county_AUDUBON  county_BENTON  county_BLACK HAWK  county_BOONE  \\\n",
       "0             0.0            0.0                0.0           0.0   \n",
       "1             0.0            0.0                0.0           0.0   \n",
       "2             0.0            0.0                0.0           0.0   \n",
       "\n",
       "   county_BREMER  county_BUCHANAN  ...  vendor_name_LAIRD & COMPANY  \\\n",
       "0            0.0              0.0  ...                          0.0   \n",
       "1            0.0              0.0  ...                          0.0   \n",
       "2            0.0              0.0  ...                          0.0   \n",
       "\n",
       "   vendor_name_LUXCO INC  vendor_name_MAST-JAGERMEISTER US, INC  \\\n",
       "0                    0.0                                    0.0   \n",
       "1                    0.0                                    0.0   \n",
       "2                    0.0                                    0.0   \n",
       "\n",
       "   vendor_name_MCCORMICK DISTILLING CO.  vendor_name_MOET HENNESSY USA  \\\n",
       "0                                   0.0                            0.0   \n",
       "1                                   0.0                            0.0   \n",
       "2                                   0.0                            0.0   \n",
       "\n",
       "   vendor_name_PERNOD RICARD USA  vendor_name_PHILLIPS BEVERAGE  \\\n",
       "0                            0.0                            0.0   \n",
       "1                            0.0                            0.0   \n",
       "2                            1.0                            0.0   \n",
       "\n",
       "   vendor_name_PROXIMO  vendor_name_REMY COINTREAU USA INC  \\\n",
       "0                  1.0                                 0.0   \n",
       "1                  0.0                                 0.0   \n",
       "2                  0.0                                 0.0   \n",
       "\n",
       "   vendor_name_SAZERAC COMPANY  INC  \n",
       "0                               0.0  \n",
       "1                               0.0  \n",
       "2                               0.0  \n",
       "\n",
       "[3 rows x 161 columns]"
      ]
     },
     "execution_count": 103,
     "metadata": {},
     "output_type": "execute_result"
    }
   ],
   "source": [
    "# Drop the columns which has been encoded\n",
    "df_object = df_object.drop(columns = ['county', 'category_name', 'vendor_name'])\n",
    "\n",
    "# Show the dataset\n",
    "df_object.head(3)"
   ]
  },
  {
   "cell_type": "markdown",
   "metadata": {},
   "source": [
    "## "
   ]
  },
  {
   "cell_type": "markdown",
   "metadata": {},
   "source": [
    "## ENCODING NUMERIC FEATURES"
   ]
  },
  {
   "cell_type": "code",
   "execution_count": 105,
   "metadata": {},
   "outputs": [
    {
     "name": "stdout",
     "output_type": "stream",
     "text": [
      "Index(['pack', 'bottle_volume_ml', 'state_bottle_cost', 'state_bottle_retail',\n",
      "       'bottles_sold', 'sale_dollars', 'volume_sold_liters',\n",
      "       'volume_sold_gallons'],\n",
      "      dtype='object')\n"
     ]
    }
   ],
   "source": [
    "numeric_columns = df.select_dtypes(include=['Int64','float64']).columns\n",
    "print(numeric_columns)"
   ]
  },
  {
   "cell_type": "code",
   "execution_count": 106,
   "metadata": {},
   "outputs": [],
   "source": [
    "df_numeric = df.select_dtypes(include=['Int64','float64'])"
   ]
  },
  {
   "cell_type": "code",
   "execution_count": 107,
   "metadata": {},
   "outputs": [
    {
     "data": {
      "text/plain": [
       "(2453391, 8)"
      ]
     },
     "execution_count": 107,
     "metadata": {},
     "output_type": "execute_result"
    }
   ],
   "source": [
    "df_numeric.shape"
   ]
  },
  {
   "cell_type": "code",
   "execution_count": 118,
   "metadata": {},
   "outputs": [
    {
     "name": "stdout",
     "output_type": "stream",
     "text": [
      "<class 'pandas.core.frame.DataFrame'>\n",
      "Index: 2453391 entries, 0 to 2468901\n",
      "Data columns (total 8 columns):\n",
      " #   Column               Dtype  \n",
      "---  ------               -----  \n",
      " 0   pack                 Int64  \n",
      " 1   bottle_volume_ml     Int64  \n",
      " 2   state_bottle_cost    float64\n",
      " 3   state_bottle_retail  float64\n",
      " 4   bottles_sold         Int64  \n",
      " 5   sale_dollars         float64\n",
      " 6   volume_sold_liters   float64\n",
      " 7   volume_sold_gallons  float64\n",
      "dtypes: Int64(3), float64(5)\n",
      "memory usage: 175.5 MB\n"
     ]
    }
   ],
   "source": [
    "df_numeric.info()"
   ]
  },
  {
   "cell_type": "code",
   "execution_count": null,
   "metadata": {},
   "outputs": [
    {
     "data": {
      "text/plain": [
       "pack                   0\n",
       "bottle_volume_ml       0\n",
       "state_bottle_cost      0\n",
       "state_bottle_retail    0\n",
       "bottles_sold           0\n",
       "sale_dollars           0\n",
       "volume_sold_liters     0\n",
       "volume_sold_gallons    0\n",
       "dtype: int64"
      ]
     },
     "execution_count": 109,
     "metadata": {},
     "output_type": "execute_result"
    }
   ],
   "source": [
    "# Counting the number of NaN for each column\n",
    "df_numeric.isnull().sum().sort_values(ascending=False)"
   ]
  },
  {
   "cell_type": "code",
   "execution_count": null,
   "metadata": {},
   "outputs": [
    {
     "data": {
      "text/html": [
       "<div>\n",
       "<style scoped>\n",
       "    .dataframe tbody tr th:only-of-type {\n",
       "        vertical-align: middle;\n",
       "    }\n",
       "\n",
       "    .dataframe tbody tr th {\n",
       "        vertical-align: top;\n",
       "    }\n",
       "\n",
       "    .dataframe thead th {\n",
       "        text-align: right;\n",
       "    }\n",
       "</style>\n",
       "<table border=\"1\" class=\"dataframe\">\n",
       "  <thead>\n",
       "    <tr style=\"text-align: right;\">\n",
       "      <th></th>\n",
       "      <th>pack</th>\n",
       "      <th>bottle_volume_ml</th>\n",
       "      <th>state_bottle_cost</th>\n",
       "      <th>state_bottle_retail</th>\n",
       "      <th>bottles_sold</th>\n",
       "      <th>sale_dollars</th>\n",
       "      <th>volume_sold_liters</th>\n",
       "      <th>volume_sold_gallons</th>\n",
       "    </tr>\n",
       "  </thead>\n",
       "  <tbody>\n",
       "    <tr>\n",
       "      <th>count</th>\n",
       "      <td>2453391.0</td>\n",
       "      <td>2453391.0</td>\n",
       "      <td>2.453391e+06</td>\n",
       "      <td>2.453391e+06</td>\n",
       "      <td>2453391.0</td>\n",
       "      <td>2.453391e+06</td>\n",
       "      <td>2.453391e+06</td>\n",
       "      <td>2.453391e+06</td>\n",
       "    </tr>\n",
       "    <tr>\n",
       "      <th>mean</th>\n",
       "      <td>12.303005</td>\n",
       "      <td>797.561215</td>\n",
       "      <td>1.254381e+01</td>\n",
       "      <td>1.881364e+01</td>\n",
       "      <td>12.427333</td>\n",
       "      <td>1.705956e+02</td>\n",
       "      <td>9.285979e+00</td>\n",
       "      <td>2.447526e+00</td>\n",
       "    </tr>\n",
       "    <tr>\n",
       "      <th>std</th>\n",
       "      <td>8.435902</td>\n",
       "      <td>542.903293</td>\n",
       "      <td>2.090455e+01</td>\n",
       "      <td>3.135385e+01</td>\n",
       "      <td>36.729466</td>\n",
       "      <td>6.397873e+02</td>\n",
       "      <td>4.103982e+01</td>\n",
       "      <td>1.084177e+01</td>\n",
       "    </tr>\n",
       "    <tr>\n",
       "      <th>min</th>\n",
       "      <td>1.0</td>\n",
       "      <td>20.0</td>\n",
       "      <td>8.900000e-01</td>\n",
       "      <td>1.340000e+00</td>\n",
       "      <td>-768.0</td>\n",
       "      <td>-8.355840e+03</td>\n",
       "      <td>-1.344000e+03</td>\n",
       "      <td>-3.550400e+02</td>\n",
       "    </tr>\n",
       "    <tr>\n",
       "      <th>25%</th>\n",
       "      <td>6.0</td>\n",
       "      <td>375.0</td>\n",
       "      <td>6.000000e+00</td>\n",
       "      <td>9.000000e+00</td>\n",
       "      <td>3.0</td>\n",
       "      <td>4.948000e+01</td>\n",
       "      <td>1.500000e+00</td>\n",
       "      <td>3.900000e-01</td>\n",
       "    </tr>\n",
       "    <tr>\n",
       "      <th>50%</th>\n",
       "      <td>12.0</td>\n",
       "      <td>750.0</td>\n",
       "      <td>9.060000e+00</td>\n",
       "      <td>1.359000e+01</td>\n",
       "      <td>6.0</td>\n",
       "      <td>9.168000e+01</td>\n",
       "      <td>4.800000e+00</td>\n",
       "      <td>1.260000e+00</td>\n",
       "    </tr>\n",
       "    <tr>\n",
       "      <th>75%</th>\n",
       "      <td>12.0</td>\n",
       "      <td>1000.0</td>\n",
       "      <td>1.500000e+01</td>\n",
       "      <td>2.250000e+01</td>\n",
       "      <td>12.0</td>\n",
       "      <td>1.710000e+02</td>\n",
       "      <td>1.050000e+01</td>\n",
       "      <td>2.770000e+00</td>\n",
       "    </tr>\n",
       "    <tr>\n",
       "      <th>max</th>\n",
       "      <td>60.0</td>\n",
       "      <td>5250.0</td>\n",
       "      <td>2.498902e+04</td>\n",
       "      <td>3.748353e+04</td>\n",
       "      <td>13200.0</td>\n",
       "      <td>2.608320e+05</td>\n",
       "      <td>1.320000e+04</td>\n",
       "      <td>3.487070e+03</td>\n",
       "    </tr>\n",
       "  </tbody>\n",
       "</table>\n",
       "</div>"
      ],
      "text/plain": [
       "            pack  bottle_volume_ml  state_bottle_cost  state_bottle_retail  \\\n",
       "count  2453391.0         2453391.0       2.453391e+06         2.453391e+06   \n",
       "mean   12.303005        797.561215       1.254381e+01         1.881364e+01   \n",
       "std     8.435902        542.903293       2.090455e+01         3.135385e+01   \n",
       "min          1.0              20.0       8.900000e-01         1.340000e+00   \n",
       "25%          6.0             375.0       6.000000e+00         9.000000e+00   \n",
       "50%         12.0             750.0       9.060000e+00         1.359000e+01   \n",
       "75%         12.0            1000.0       1.500000e+01         2.250000e+01   \n",
       "max         60.0            5250.0       2.498902e+04         3.748353e+04   \n",
       "\n",
       "       bottles_sold  sale_dollars  volume_sold_liters  volume_sold_gallons  \n",
       "count     2453391.0  2.453391e+06        2.453391e+06         2.453391e+06  \n",
       "mean      12.427333  1.705956e+02        9.285979e+00         2.447526e+00  \n",
       "std       36.729466  6.397873e+02        4.103982e+01         1.084177e+01  \n",
       "min          -768.0 -8.355840e+03       -1.344000e+03        -3.550400e+02  \n",
       "25%             3.0  4.948000e+01        1.500000e+00         3.900000e-01  \n",
       "50%             6.0  9.168000e+01        4.800000e+00         1.260000e+00  \n",
       "75%            12.0  1.710000e+02        1.050000e+01         2.770000e+00  \n",
       "max         13200.0  2.608320e+05        1.320000e+04         3.487070e+03  "
      ]
     },
     "execution_count": 114,
     "metadata": {},
     "output_type": "execute_result"
    }
   ],
   "source": [
    "df_numeric.describe()"
   ]
  },
  {
   "cell_type": "code",
   "execution_count": 126,
   "metadata": {},
   "outputs": [
    {
     "name": "stdout",
     "output_type": "stream",
     "text": [
      "3273\n"
     ]
    }
   ],
   "source": [
    "negative_value = df_numeric[df_numeric['bottles_sold']<0]\n",
    "print(len(negative_value))"
   ]
  },
  {
   "cell_type": "code",
   "execution_count": 136,
   "metadata": {},
   "outputs": [
    {
     "data": {
      "text/html": [
       "<div>\n",
       "<style scoped>\n",
       "    .dataframe tbody tr th:only-of-type {\n",
       "        vertical-align: middle;\n",
       "    }\n",
       "\n",
       "    .dataframe tbody tr th {\n",
       "        vertical-align: top;\n",
       "    }\n",
       "\n",
       "    .dataframe thead th {\n",
       "        text-align: right;\n",
       "    }\n",
       "</style>\n",
       "<table border=\"1\" class=\"dataframe\">\n",
       "  <thead>\n",
       "    <tr style=\"text-align: right;\">\n",
       "      <th></th>\n",
       "      <th>pack</th>\n",
       "      <th>bottle_volume_ml</th>\n",
       "      <th>state_bottle_cost</th>\n",
       "      <th>state_bottle_retail</th>\n",
       "      <th>bottles_sold</th>\n",
       "      <th>sale_dollars</th>\n",
       "      <th>volume_sold_liters</th>\n",
       "      <th>volume_sold_gallons</th>\n",
       "    </tr>\n",
       "  </thead>\n",
       "  <tbody>\n",
       "    <tr>\n",
       "      <th>1</th>\n",
       "      <td>8</td>\n",
       "      <td>50</td>\n",
       "      <td>8.87</td>\n",
       "      <td>13.31</td>\n",
       "      <td>1</td>\n",
       "      <td>13.31</td>\n",
       "      <td>0.05</td>\n",
       "      <td>0.01</td>\n",
       "    </tr>\n",
       "    <tr>\n",
       "      <th>2</th>\n",
       "      <td>12</td>\n",
       "      <td>50</td>\n",
       "      <td>9.90</td>\n",
       "      <td>14.85</td>\n",
       "      <td>1</td>\n",
       "      <td>14.85</td>\n",
       "      <td>0.05</td>\n",
       "      <td>0.01</td>\n",
       "    </tr>\n",
       "    <tr>\n",
       "      <th>3</th>\n",
       "      <td>12</td>\n",
       "      <td>50</td>\n",
       "      <td>9.90</td>\n",
       "      <td>14.85</td>\n",
       "      <td>1</td>\n",
       "      <td>14.85</td>\n",
       "      <td>0.05</td>\n",
       "      <td>0.01</td>\n",
       "    </tr>\n",
       "    <tr>\n",
       "      <th>4</th>\n",
       "      <td>12</td>\n",
       "      <td>50</td>\n",
       "      <td>8.30</td>\n",
       "      <td>12.45</td>\n",
       "      <td>1</td>\n",
       "      <td>12.45</td>\n",
       "      <td>0.05</td>\n",
       "      <td>0.01</td>\n",
       "    </tr>\n",
       "    <tr>\n",
       "      <th>5</th>\n",
       "      <td>10</td>\n",
       "      <td>50</td>\n",
       "      <td>7.92</td>\n",
       "      <td>11.88</td>\n",
       "      <td>1</td>\n",
       "      <td>11.88</td>\n",
       "      <td>0.05</td>\n",
       "      <td>0.01</td>\n",
       "    </tr>\n",
       "    <tr>\n",
       "      <th>...</th>\n",
       "      <td>...</td>\n",
       "      <td>...</td>\n",
       "      <td>...</td>\n",
       "      <td>...</td>\n",
       "      <td>...</td>\n",
       "      <td>...</td>\n",
       "      <td>...</td>\n",
       "      <td>...</td>\n",
       "    </tr>\n",
       "    <tr>\n",
       "      <th>2468897</th>\n",
       "      <td>1</td>\n",
       "      <td>50</td>\n",
       "      <td>51.60</td>\n",
       "      <td>77.40</td>\n",
       "      <td>1</td>\n",
       "      <td>77.40</td>\n",
       "      <td>0.05</td>\n",
       "      <td>0.01</td>\n",
       "    </tr>\n",
       "    <tr>\n",
       "      <th>2468898</th>\n",
       "      <td>1</td>\n",
       "      <td>50</td>\n",
       "      <td>51.60</td>\n",
       "      <td>77.40</td>\n",
       "      <td>2</td>\n",
       "      <td>154.80</td>\n",
       "      <td>0.10</td>\n",
       "      <td>0.02</td>\n",
       "    </tr>\n",
       "    <tr>\n",
       "      <th>2468899</th>\n",
       "      <td>1</td>\n",
       "      <td>50</td>\n",
       "      <td>51.60</td>\n",
       "      <td>77.40</td>\n",
       "      <td>2</td>\n",
       "      <td>154.80</td>\n",
       "      <td>0.10</td>\n",
       "      <td>0.02</td>\n",
       "    </tr>\n",
       "    <tr>\n",
       "      <th>2468900</th>\n",
       "      <td>1</td>\n",
       "      <td>50</td>\n",
       "      <td>51.60</td>\n",
       "      <td>77.40</td>\n",
       "      <td>4</td>\n",
       "      <td>309.60</td>\n",
       "      <td>0.20</td>\n",
       "      <td>0.05</td>\n",
       "    </tr>\n",
       "    <tr>\n",
       "      <th>2468901</th>\n",
       "      <td>1</td>\n",
       "      <td>50</td>\n",
       "      <td>51.60</td>\n",
       "      <td>77.40</td>\n",
       "      <td>57</td>\n",
       "      <td>4411.80</td>\n",
       "      <td>2.85</td>\n",
       "      <td>0.75</td>\n",
       "    </tr>\n",
       "  </tbody>\n",
       "</table>\n",
       "<p>2450118 rows × 8 columns</p>\n",
       "</div>"
      ],
      "text/plain": [
       "         pack  bottle_volume_ml  state_bottle_cost  state_bottle_retail  \\\n",
       "1           8                50               8.87                13.31   \n",
       "2          12                50               9.90                14.85   \n",
       "3          12                50               9.90                14.85   \n",
       "4          12                50               8.30                12.45   \n",
       "5          10                50               7.92                11.88   \n",
       "...       ...               ...                ...                  ...   \n",
       "2468897     1                50              51.60                77.40   \n",
       "2468898     1                50              51.60                77.40   \n",
       "2468899     1                50              51.60                77.40   \n",
       "2468900     1                50              51.60                77.40   \n",
       "2468901     1                50              51.60                77.40   \n",
       "\n",
       "         bottles_sold  sale_dollars  volume_sold_liters  volume_sold_gallons  \n",
       "1                   1         13.31                0.05                 0.01  \n",
       "2                   1         14.85                0.05                 0.01  \n",
       "3                   1         14.85                0.05                 0.01  \n",
       "4                   1         12.45                0.05                 0.01  \n",
       "5                   1         11.88                0.05                 0.01  \n",
       "...               ...           ...                 ...                  ...  \n",
       "2468897             1         77.40                0.05                 0.01  \n",
       "2468898             2        154.80                0.10                 0.02  \n",
       "2468899             2        154.80                0.10                 0.02  \n",
       "2468900             4        309.60                0.20                 0.05  \n",
       "2468901            57       4411.80                2.85                 0.75  \n",
       "\n",
       "[2450118 rows x 8 columns]"
      ]
     },
     "execution_count": 136,
     "metadata": {},
     "output_type": "execute_result"
    }
   ],
   "source": [
    "df_numeric[df_numeric['bottles_sold']>=0]"
   ]
  },
  {
   "cell_type": "code",
   "execution_count": 127,
   "metadata": {},
   "outputs": [],
   "source": [
    "df_numeric = df_numeric[df_numeric['bottles_sold']>=0]"
   ]
  },
  {
   "cell_type": "code",
   "execution_count": 128,
   "metadata": {},
   "outputs": [
    {
     "data": {
      "text/html": [
       "<div>\n",
       "<style scoped>\n",
       "    .dataframe tbody tr th:only-of-type {\n",
       "        vertical-align: middle;\n",
       "    }\n",
       "\n",
       "    .dataframe tbody tr th {\n",
       "        vertical-align: top;\n",
       "    }\n",
       "\n",
       "    .dataframe thead th {\n",
       "        text-align: right;\n",
       "    }\n",
       "</style>\n",
       "<table border=\"1\" class=\"dataframe\">\n",
       "  <thead>\n",
       "    <tr style=\"text-align: right;\">\n",
       "      <th></th>\n",
       "      <th>pack</th>\n",
       "      <th>bottle_volume_ml</th>\n",
       "      <th>state_bottle_cost</th>\n",
       "      <th>state_bottle_retail</th>\n",
       "      <th>bottles_sold</th>\n",
       "      <th>sale_dollars</th>\n",
       "      <th>volume_sold_liters</th>\n",
       "      <th>volume_sold_gallons</th>\n",
       "    </tr>\n",
       "  </thead>\n",
       "  <tbody>\n",
       "    <tr>\n",
       "      <th>count</th>\n",
       "      <td>2450118.0</td>\n",
       "      <td>2450118.0</td>\n",
       "      <td>2.450118e+06</td>\n",
       "      <td>2.450118e+06</td>\n",
       "      <td>2450118.0</td>\n",
       "      <td>2.450118e+06</td>\n",
       "      <td>2.450118e+06</td>\n",
       "      <td>2.450118e+06</td>\n",
       "    </tr>\n",
       "    <tr>\n",
       "      <th>mean</th>\n",
       "      <td>12.303128</td>\n",
       "      <td>797.566898</td>\n",
       "      <td>1.254163e+01</td>\n",
       "      <td>1.881037e+01</td>\n",
       "      <td>12.458985</td>\n",
       "      <td>1.710364e+02</td>\n",
       "      <td>9.309495e+00</td>\n",
       "      <td>2.453724e+00</td>\n",
       "    </tr>\n",
       "    <tr>\n",
       "      <th>std</th>\n",
       "      <td>8.435205</td>\n",
       "      <td>542.926139</td>\n",
       "      <td>2.091086e+01</td>\n",
       "      <td>3.136332e+01</td>\n",
       "      <td>36.732561</td>\n",
       "      <td>6.400021e+02</td>\n",
       "      <td>4.104745e+01</td>\n",
       "      <td>1.084379e+01</td>\n",
       "    </tr>\n",
       "    <tr>\n",
       "      <th>min</th>\n",
       "      <td>1.0</td>\n",
       "      <td>20.0</td>\n",
       "      <td>8.900000e-01</td>\n",
       "      <td>1.340000e+00</td>\n",
       "      <td>1.0</td>\n",
       "      <td>1.340000e+00</td>\n",
       "      <td>2.000000e-02</td>\n",
       "      <td>0.000000e+00</td>\n",
       "    </tr>\n",
       "    <tr>\n",
       "      <th>25%</th>\n",
       "      <td>6.0</td>\n",
       "      <td>375.0</td>\n",
       "      <td>6.000000e+00</td>\n",
       "      <td>9.000000e+00</td>\n",
       "      <td>3.0</td>\n",
       "      <td>4.950000e+01</td>\n",
       "      <td>1.500000e+00</td>\n",
       "      <td>3.900000e-01</td>\n",
       "    </tr>\n",
       "    <tr>\n",
       "      <th>50%</th>\n",
       "      <td>12.0</td>\n",
       "      <td>750.0</td>\n",
       "      <td>9.060000e+00</td>\n",
       "      <td>1.359000e+01</td>\n",
       "      <td>6.0</td>\n",
       "      <td>9.296000e+01</td>\n",
       "      <td>4.800000e+00</td>\n",
       "      <td>1.260000e+00</td>\n",
       "    </tr>\n",
       "    <tr>\n",
       "      <th>75%</th>\n",
       "      <td>12.0</td>\n",
       "      <td>1000.0</td>\n",
       "      <td>1.500000e+01</td>\n",
       "      <td>2.250000e+01</td>\n",
       "      <td>12.0</td>\n",
       "      <td>1.710000e+02</td>\n",
       "      <td>1.050000e+01</td>\n",
       "      <td>2.770000e+00</td>\n",
       "    </tr>\n",
       "    <tr>\n",
       "      <th>max</th>\n",
       "      <td>60.0</td>\n",
       "      <td>5250.0</td>\n",
       "      <td>2.498902e+04</td>\n",
       "      <td>3.748353e+04</td>\n",
       "      <td>13200.0</td>\n",
       "      <td>2.608320e+05</td>\n",
       "      <td>1.320000e+04</td>\n",
       "      <td>3.487070e+03</td>\n",
       "    </tr>\n",
       "  </tbody>\n",
       "</table>\n",
       "</div>"
      ],
      "text/plain": [
       "            pack  bottle_volume_ml  state_bottle_cost  state_bottle_retail  \\\n",
       "count  2450118.0         2450118.0       2.450118e+06         2.450118e+06   \n",
       "mean   12.303128        797.566898       1.254163e+01         1.881037e+01   \n",
       "std     8.435205        542.926139       2.091086e+01         3.136332e+01   \n",
       "min          1.0              20.0       8.900000e-01         1.340000e+00   \n",
       "25%          6.0             375.0       6.000000e+00         9.000000e+00   \n",
       "50%         12.0             750.0       9.060000e+00         1.359000e+01   \n",
       "75%         12.0            1000.0       1.500000e+01         2.250000e+01   \n",
       "max         60.0            5250.0       2.498902e+04         3.748353e+04   \n",
       "\n",
       "       bottles_sold  sale_dollars  volume_sold_liters  volume_sold_gallons  \n",
       "count     2450118.0  2.450118e+06        2.450118e+06         2.450118e+06  \n",
       "mean      12.458985  1.710364e+02        9.309495e+00         2.453724e+00  \n",
       "std       36.732561  6.400021e+02        4.104745e+01         1.084379e+01  \n",
       "min             1.0  1.340000e+00        2.000000e-02         0.000000e+00  \n",
       "25%             3.0  4.950000e+01        1.500000e+00         3.900000e-01  \n",
       "50%             6.0  9.296000e+01        4.800000e+00         1.260000e+00  \n",
       "75%            12.0  1.710000e+02        1.050000e+01         2.770000e+00  \n",
       "max         13200.0  2.608320e+05        1.320000e+04         3.487070e+03  "
      ]
     },
     "execution_count": 128,
     "metadata": {},
     "output_type": "execute_result"
    }
   ],
   "source": [
    "df_numeric.describe()"
   ]
  },
  {
   "cell_type": "code",
   "execution_count": 129,
   "metadata": {},
   "outputs": [
    {
     "data": {
      "text/plain": [
       "(2450118, 8)"
      ]
     },
     "execution_count": 129,
     "metadata": {},
     "output_type": "execute_result"
    }
   ],
   "source": [
    "df_numeric.shape"
   ]
  },
  {
   "cell_type": "code",
   "execution_count": 130,
   "metadata": {},
   "outputs": [
    {
     "data": {
      "text/plain": [
       "3273"
      ]
     },
     "execution_count": 130,
     "metadata": {},
     "output_type": "execute_result"
    }
   ],
   "source": [
    "2453391-2450118"
   ]
  },
  {
   "cell_type": "code",
   "execution_count": null,
   "metadata": {},
   "outputs": [
    {
     "name": "stdout",
     "output_type": "stream",
     "text": [
      "Min value:  -768\n",
      "Max value:  13200\n",
      "Mean value:  12.427333433602715\n"
     ]
    }
   ],
   "source": [
    "print(\"Min value: \",df_numeric['bottles_sold'].min())\n",
    "print(\"Max value: \",df_numeric['bottles_sold'].max())\n",
    "print(\"Mean value: \",df_numeric['bottles_sold'].mean())"
   ]
  },
  {
   "cell_type": "code",
   "execution_count": 131,
   "metadata": {},
   "outputs": [
    {
     "data": {
      "image/png": "[encoded data removed]",
      "text/plain": [
       "<Figure size 640x480 with 1 Axes>"
      ]
     },
     "metadata": {},
     "output_type": "display_data"
    }
   ],
   "source": [
    "##Para checar su distribución ( histograma )\n",
    "sns.histplot(df_numeric['sale_dollars'], bins=200,kde = True)\n",
    "plt.show()"
   ]
  },
  {
   "cell_type": "code",
   "execution_count": 132,
   "metadata": {},
   "outputs": [
    {
     "data": {
      "image/png": "[encoded data removed]",
      "text/plain": [
       "<Figure size 640x480 with 1 Axes>"
      ]
     },
     "metadata": {},
     "output_type": "display_data"
    }
   ],
   "source": [
    "## Datos en gráfica de caja\n",
    "sns.boxplot(data=df_numeric, x='sale_dollars');"
   ]
  },
  {
   "cell_type": "code",
   "execution_count": 133,
   "metadata": {},
   "outputs": [],
   "source": [
    "# Initialize the scaler\n",
    "scaler = RobustScaler()\n",
    "# Fit and transform the DataFrame\n",
    "df_numeric_scaled = pd.DataFrame(scaler.fit_transform(df_numeric), columns=df_numeric.columns, index=df_numeric.index)"
   ]
  },
  {
   "cell_type": "code",
   "execution_count": 134,
   "metadata": {},
   "outputs": [
    {
     "data": {
      "text/html": [
       "<div>\n",
       "<style scoped>\n",
       "    .dataframe tbody tr th:only-of-type {\n",
       "        vertical-align: middle;\n",
       "    }\n",
       "\n",
       "    .dataframe tbody tr th {\n",
       "        vertical-align: top;\n",
       "    }\n",
       "\n",
       "    .dataframe thead th {\n",
       "        text-align: right;\n",
       "    }\n",
       "</style>\n",
       "<table border=\"1\" class=\"dataframe\">\n",
       "  <thead>\n",
       "    <tr style=\"text-align: right;\">\n",
       "      <th></th>\n",
       "      <th>pack</th>\n",
       "      <th>bottle_volume_ml</th>\n",
       "      <th>state_bottle_cost</th>\n",
       "      <th>state_bottle_retail</th>\n",
       "      <th>bottles_sold</th>\n",
       "      <th>sale_dollars</th>\n",
       "      <th>volume_sold_liters</th>\n",
       "      <th>volume_sold_gallons</th>\n",
       "    </tr>\n",
       "  </thead>\n",
       "  <tbody>\n",
       "    <tr>\n",
       "      <th>1</th>\n",
       "      <td>-0.666667</td>\n",
       "      <td>-1.12</td>\n",
       "      <td>-0.021111</td>\n",
       "      <td>-0.020741</td>\n",
       "      <td>-0.555556</td>\n",
       "      <td>-0.655556</td>\n",
       "      <td>-0.527778</td>\n",
       "      <td>-0.525210</td>\n",
       "    </tr>\n",
       "    <tr>\n",
       "      <th>2</th>\n",
       "      <td>0.000000</td>\n",
       "      <td>-1.12</td>\n",
       "      <td>0.093333</td>\n",
       "      <td>0.093333</td>\n",
       "      <td>-0.555556</td>\n",
       "      <td>-0.642881</td>\n",
       "      <td>-0.527778</td>\n",
       "      <td>-0.525210</td>\n",
       "    </tr>\n",
       "    <tr>\n",
       "      <th>3</th>\n",
       "      <td>0.000000</td>\n",
       "      <td>-1.12</td>\n",
       "      <td>0.093333</td>\n",
       "      <td>0.093333</td>\n",
       "      <td>-0.555556</td>\n",
       "      <td>-0.642881</td>\n",
       "      <td>-0.527778</td>\n",
       "      <td>-0.525210</td>\n",
       "    </tr>\n",
       "    <tr>\n",
       "      <th>4</th>\n",
       "      <td>0.000000</td>\n",
       "      <td>-1.12</td>\n",
       "      <td>-0.084444</td>\n",
       "      <td>-0.084444</td>\n",
       "      <td>-0.555556</td>\n",
       "      <td>-0.662634</td>\n",
       "      <td>-0.527778</td>\n",
       "      <td>-0.525210</td>\n",
       "    </tr>\n",
       "    <tr>\n",
       "      <th>5</th>\n",
       "      <td>-0.333333</td>\n",
       "      <td>-1.12</td>\n",
       "      <td>-0.126667</td>\n",
       "      <td>-0.126667</td>\n",
       "      <td>-0.555556</td>\n",
       "      <td>-0.667325</td>\n",
       "      <td>-0.527778</td>\n",
       "      <td>-0.525210</td>\n",
       "    </tr>\n",
       "    <tr>\n",
       "      <th>...</th>\n",
       "      <td>...</td>\n",
       "      <td>...</td>\n",
       "      <td>...</td>\n",
       "      <td>...</td>\n",
       "      <td>...</td>\n",
       "      <td>...</td>\n",
       "      <td>...</td>\n",
       "      <td>...</td>\n",
       "    </tr>\n",
       "    <tr>\n",
       "      <th>2468897</th>\n",
       "      <td>-1.833333</td>\n",
       "      <td>-1.12</td>\n",
       "      <td>4.726667</td>\n",
       "      <td>4.726667</td>\n",
       "      <td>-0.555556</td>\n",
       "      <td>-0.128066</td>\n",
       "      <td>-0.527778</td>\n",
       "      <td>-0.525210</td>\n",
       "    </tr>\n",
       "    <tr>\n",
       "      <th>2468898</th>\n",
       "      <td>-1.833333</td>\n",
       "      <td>-1.12</td>\n",
       "      <td>4.726667</td>\n",
       "      <td>4.726667</td>\n",
       "      <td>-0.444444</td>\n",
       "      <td>0.508971</td>\n",
       "      <td>-0.522222</td>\n",
       "      <td>-0.521008</td>\n",
       "    </tr>\n",
       "    <tr>\n",
       "      <th>2468899</th>\n",
       "      <td>-1.833333</td>\n",
       "      <td>-1.12</td>\n",
       "      <td>4.726667</td>\n",
       "      <td>4.726667</td>\n",
       "      <td>-0.444444</td>\n",
       "      <td>0.508971</td>\n",
       "      <td>-0.522222</td>\n",
       "      <td>-0.521008</td>\n",
       "    </tr>\n",
       "    <tr>\n",
       "      <th>2468900</th>\n",
       "      <td>-1.833333</td>\n",
       "      <td>-1.12</td>\n",
       "      <td>4.726667</td>\n",
       "      <td>4.726667</td>\n",
       "      <td>-0.222222</td>\n",
       "      <td>1.783045</td>\n",
       "      <td>-0.511111</td>\n",
       "      <td>-0.508403</td>\n",
       "    </tr>\n",
       "    <tr>\n",
       "      <th>2468901</th>\n",
       "      <td>-1.833333</td>\n",
       "      <td>-1.12</td>\n",
       "      <td>4.726667</td>\n",
       "      <td>4.726667</td>\n",
       "      <td>5.666667</td>\n",
       "      <td>35.546008</td>\n",
       "      <td>-0.216667</td>\n",
       "      <td>-0.214286</td>\n",
       "    </tr>\n",
       "  </tbody>\n",
       "</table>\n",
       "<p>2450118 rows × 8 columns</p>\n",
       "</div>"
      ],
      "text/plain": [
       "             pack  bottle_volume_ml  state_bottle_cost  state_bottle_retail  \\\n",
       "1       -0.666667             -1.12          -0.021111            -0.020741   \n",
       "2        0.000000             -1.12           0.093333             0.093333   \n",
       "3        0.000000             -1.12           0.093333             0.093333   \n",
       "4        0.000000             -1.12          -0.084444            -0.084444   \n",
       "5       -0.333333             -1.12          -0.126667            -0.126667   \n",
       "...           ...               ...                ...                  ...   \n",
       "2468897 -1.833333             -1.12           4.726667             4.726667   \n",
       "2468898 -1.833333             -1.12           4.726667             4.726667   \n",
       "2468899 -1.833333             -1.12           4.726667             4.726667   \n",
       "2468900 -1.833333             -1.12           4.726667             4.726667   \n",
       "2468901 -1.833333             -1.12           4.726667             4.726667   \n",
       "\n",
       "         bottles_sold  sale_dollars  volume_sold_liters  volume_sold_gallons  \n",
       "1           -0.555556     -0.655556           -0.527778            -0.525210  \n",
       "2           -0.555556     -0.642881           -0.527778            -0.525210  \n",
       "3           -0.555556     -0.642881           -0.527778            -0.525210  \n",
       "4           -0.555556     -0.662634           -0.527778            -0.525210  \n",
       "5           -0.555556     -0.667325           -0.527778            -0.525210  \n",
       "...               ...           ...                 ...                  ...  \n",
       "2468897     -0.555556     -0.128066           -0.527778            -0.525210  \n",
       "2468898     -0.444444      0.508971           -0.522222            -0.521008  \n",
       "2468899     -0.444444      0.508971           -0.522222            -0.521008  \n",
       "2468900     -0.222222      1.783045           -0.511111            -0.508403  \n",
       "2468901      5.666667     35.546008           -0.216667            -0.214286  \n",
       "\n",
       "[2450118 rows x 8 columns]"
      ]
     },
     "execution_count": 134,
     "metadata": {},
     "output_type": "execute_result"
    }
   ],
   "source": [
    "df_numeric_scaled"
   ]
  },
  {
   "cell_type": "code",
   "execution_count": null,
   "metadata": {},
   "outputs": [],
   "source": [
    "### Para una nueva columna o observación, solo transformarla en la escalated de la base\n",
    "new_wine_scaled = pd.DataFrame(scaler.transform(new_wine), columns=new_wine.columns)\n",
    "new_wine_scaled"
   ]
  }
 ],
 "metadata": {
  "kernelspec": {
   "display_name": "liquor_demand_forecasting",
   "language": "python",
   "name": "python3"
  },
  "language_info": {
   "codemirror_mode": {
    "name": "ipython",
    "version": 3
   },
   "file_extension": ".py",
   "mimetype": "text/x-python",
   "name": "python",
   "nbconvert_exporter": "python",
   "pygments_lexer": "ipython3",
   "version": "3.10.6"
  }
 },
 "nbformat": 4,
 "nbformat_minor": 2
}
