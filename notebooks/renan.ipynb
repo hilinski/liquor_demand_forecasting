{
 "cells": [
  {
   "cell_type": "code",
   "execution_count": null,
   "id": "672201fe-950c-40a4-8dbe-7b148f24dc03",
   "metadata": {},
   "outputs": [],
   "source": [
    "import pandas as pd\n",
    "import os\n",
    "import numpy as np"
   ]
  },
  {
   "cell_type": "code",
   "execution_count": null,
   "id": "ab16b6ac-6fb8-4ffc-8e89-6f699566f334",
   "metadata": {},
   "outputs": [],
   "source": [
    "from liquor_app.interface.main import preprocess"
   ]
  },
  {
   "cell_type": "code",
   "execution_count": null,
   "id": "db527f1a-d754-4695-a6ed-9cdd8028c60d",
   "metadata": {},
   "outputs": [],
   "source": [
    "%load_ext autoreload\n",
    "%autoreload 2"
   ]
  },
  {
   "cell_type": "code",
   "execution_count": null,
   "id": "1fa64696-cf08-48bf-91d8-b492650be9d9",
   "metadata": {},
   "outputs": [],
   "source": [
    "query_data = '''\n",
    "                select *\n",
    "                from `bigquery-public-data.iowa_liquor_sales.sales`\n",
    "                where date <= '2023-03-31' and date >= '2023-01-01'\n",
    "            '''"
   ]
  },
  {
   "cell_type": "code",
   "execution_count": null,
   "id": "b265342a-98ce-46e8-9cd0-9996405c4893",
   "metadata": {},
   "outputs": [],
   "source": [
    "data_path = '../raw_data/data.csv'"
   ]
  },
  {
   "cell_type": "code",
   "execution_count": null,
   "id": "fdced335-6168-40ff-b465-b263a4913968",
   "metadata": {},
   "outputs": [],
   "source": [
    "data = pd.read_csv(data_path)"
   ]
  },
  {
   "cell_type": "code",
   "execution_count": null,
   "id": "38dd9baa-9b90-4e3d-988e-f723b939bf86",
   "metadata": {},
   "outputs": [],
   "source": [
    "data.head(5)"
   ]
  },
  {
   "cell_type": "code",
   "execution_count": null,
   "id": "54509795-e393-4552-83b4-a5cf116c6ccc",
   "metadata": {
    "scrolled": true
   },
   "outputs": [],
   "source": [
    "data.info()"
   ]
  },
  {
   "cell_type": "code",
   "execution_count": null,
   "id": "d29c899f-aa62-45bb-a4dd-645272f288cb",
   "metadata": {},
   "outputs": [],
   "source": [
    "vendors = data.vendor_name.unique()"
   ]
  },
  {
   "cell_type": "code",
   "execution_count": null,
   "id": "de967d59-878b-4dc3-846b-91cfc3338bd0",
   "metadata": {
    "scrolled": true
   },
   "outputs": [],
   "source": [
    "data.describe()"
   ]
  },
  {
   "cell_type": "code",
   "execution_count": null,
   "id": "72b9b77f-2334-4e71-aac9-6010f35b1bf3",
   "metadata": {},
   "outputs": [],
   "source": [
    "df = preprocess()"
   ]
  },
  {
   "cell_type": "code",
   "execution_count": null,
   "id": "f35b2564-9fce-4992-9e3c-951f297bdba6",
   "metadata": {},
   "outputs": [],
   "source": [
    "df.head(5)"
   ]
  },
  {
   "cell_type": "code",
   "execution_count": null,
   "id": "e4ff2cc4-f3b5-44cf-adec-80f1063ae246",
   "metadata": {},
   "outputs": [],
   "source": []
  }
 ],
 "metadata": {
  "kernelspec": {
   "display_name": "Python 3 (ipykernel)",
   "language": "python",
   "name": "python3"
  },
  "language_info": {
   "codemirror_mode": {
    "name": "ipython",
    "version": 3
   },
   "file_extension": ".py",
   "mimetype": "text/x-python",
   "name": "python",
   "nbconvert_exporter": "python",
   "pygments_lexer": "ipython3",
   "version": "3.10.6"
  }
 },
 "nbformat": 4,
 "nbformat_minor": 5
}
